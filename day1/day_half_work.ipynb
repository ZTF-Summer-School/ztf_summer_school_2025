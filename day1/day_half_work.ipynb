{
 "cells": [
  {
   "cell_type": "code",
   "execution_count": 2,
   "id": "85c0cbc1",
   "metadata": {},
   "outputs": [
    {
     "name": "stderr",
     "output_type": "stream",
     "text": [
      "c:\\Users\\hyngv\\miniforge3\\envs\\ztf_2025\\Lib\\site-packages\\tqdm\\auto.py:21: TqdmWarning: IProgress not found. Please update jupyter and ipywidgets. See https://ipywidgets.readthedocs.io/en/stable/user_install.html\n",
      "  from .autonotebook import tqdm as notebook_tqdm\n"
     ]
    }
   ],
   "source": [
    "import os\n",
    "os.environ['CUDA_LAUNCH_BLOCKING'] = \"1\"  \n",
    "import numpy as np\n",
    "import torch\n",
    "import torch.nn as nn\n",
    "import torch.optim as optim\n",
    "from astropy.coordinates import SkyCoord\n",
    "import astropy.units as u\n",
    "from sklearn.model_selection import train_test_split\n",
    "import matplotlib.pyplot as plt\n",
    "from time import time\n",
    "from copy import deepcopy\n",
    "# from Equi2GalMLP import EquatorialToGalacticMLP\n",
    "from LossFunc import GreatCircleLoss, GreatCircleLoss_no_average\n",
    "from tqdm import tqdm\n",
    "import time\n",
    "from torch.utils.data import Dataset\n",
    "import torch.nn.functional as F\n",
    "import random\n",
    "from dataloader import get_dataloaders\n",
    "import numpy as np\n",
    "from sklearn.metrics import precision_recall_curve, auc, roc_auc_score, roc_curve\n",
    "from torch.optim.lr_scheduler import ReduceLROnPlateau\n",
    "import torch.nn as nn\n",
    "from pathlib import Path\n",
    "from sklearn.metrics import auc as sklearn_auc\n",
    "from plotter import plot_combined_results\n",
    "from datetime import datetime as t\n",
    "from train_utils import select_gpu, calculate_pr_auc, get_class_counts, calculate_val_loss\n",
    "\n",
    "\n",
    "\n",
    "# torch.manual_seed(42)          # CPU\n",
    "# torch.cuda.manual_seed(42)     # Current GPU\n",
    "# torch.cuda.manual_seed_all(42) # All GPUs (if multi-GPU)\n",
    "\n",
    "# # Set NumPy seed\n",
    "# np.random.seed(42)\n",
    "\n",
    "# # Set Python's built-in random seed\n",
    "# random.seed(42)\n",
    "\n",
    "# # Additional PyTorch settings for determinism\n",
    "# torch.backends.cudnn.deterministic = True  # Uses deterministic algorithms\n",
    "# torch.backends.cudnn.benchmark = False     # Disables benchmarking (for reproducibility)"
   ]
  },
  {
   "cell_type": "code",
   "execution_count": 3,
   "id": "b6748a19",
   "metadata": {},
   "outputs": [],
   "source": [
    "def generate_data(num_samples=10000):\n",
    "        \"\"\"Generate training data with RA in degrees (0-360) and Dec in degrees (-90 to 90)\"\"\"\n",
    "        ra = np.random.uniform(0, 360, num_samples)\n",
    "        dec = np.random.uniform(-90, 90, num_samples)\n",
    "        \n",
    "        # Convert to galactic coordinates using astropy\n",
    "        equatorial = SkyCoord(ra=ra*u.deg, dec=dec*u.deg, frame='icrs')\n",
    "        galactic = equatorial.galactic\n",
    "        \n",
    "        # Extract l (0-360) and b (-90 to 90) in degrees\n",
    "        l = galactic.l.deg\n",
    "        b = galactic.b.deg\n",
    "        \n",
    "        # Normalize all values to [-1, 1] range\n",
    "        inputs = np.column_stack((ra / 180 - 1, dec / 90))  # RA: [0,360] -> [-1,1], Dec: [-90,90] -> [-1,1]\n",
    "        answers = np.column_stack((l / 180 - 1, b / 90))     # l: [0,360] -> [-1,1], b: [-90,90] -> [-1,1]\n",
    "        \n",
    "        \n",
    "        return inputs, answers "
   ]
  },
  {
   "cell_type": "code",
   "execution_count": 4,
   "id": "a5886b57",
   "metadata": {},
   "outputs": [],
   "source": [
    "import numpy as np\n",
    "import torch\n",
    "\n",
    "def get_cutoff_acc(model, X, y, cutoff_deg=1):\n",
    "    model.eval()\n",
    "    with torch.no_grad():\n",
    "        outputs = model(X)\n",
    "        loss = GreatCircleLoss(outputs, y).item()\n",
    "        \n",
    "        # Convert predictions and true values to degrees\n",
    "        true_l, true_b = y[:, 0].cpu().numpy(), y[:, 1].cpu().numpy()\n",
    "        pred_l, pred_b = outputs[:, 0].cpu().numpy(), outputs[:, 1].cpu().numpy()\n",
    "        \n",
    "        true_l = (true_l + 1) * 180  # [-1,1] -> [0,360]\n",
    "        true_b = true_b * 90         # [-1,1] -> [-90,90]\n",
    "        pred_l = (pred_l + 1) * 180\n",
    "        pred_b = pred_b * 90\n",
    "        \n",
    "        # Convert degrees to radians for great circle distance calculation\n",
    "        true_l_rad = np.radians(true_l)\n",
    "        true_b_rad = np.radians(true_b)\n",
    "        pred_l_rad = np.radians(pred_l)\n",
    "        pred_b_rad = np.radians(pred_b)\n",
    "        \n",
    "        # Calculate great circle distance for each point\n",
    "        # Haversine formula\n",
    "        dlon = pred_l_rad - true_l_rad\n",
    "        dlat = pred_b_rad - true_b_rad\n",
    "        a = np.sin(dlat/2)**2 + np.cos(true_b_rad) * np.cos(pred_b_rad) * np.sin(dlon/2)**2\n",
    "        c = 2 * np.arcsin(np.sqrt(a))\n",
    "        great_circle_dist_deg = np.degrees(c)\n",
    "        \n",
    "        # Calculate accuracy based on great circle distance\n",
    "        correct = np.sum(great_circle_dist_deg < cutoff_deg)\n",
    "        total = len(true_l)\n",
    "        acc = correct / total\n",
    "        \n",
    "        # Also compute individual accuracies for l and b (optional)\n",
    "        l_diff = np.abs(true_l - pred_l)\n",
    "        l_diff = np.minimum(l_diff, 360 - l_diff)\n",
    "        b_diff = np.abs(true_b - pred_b)\n",
    "        \n",
    "        correct_l = np.sum(l_diff < cutoff_deg)\n",
    "        correct_b = np.sum(b_diff < cutoff_deg)\n",
    "        \n",
    "        acc_l = correct_l / total\n",
    "        acc_b = correct_b / total\n",
    "        \n",
    "    return loss, acc_l, acc_b, acc\n",
    "\n",
    "\n",
    "\n",
    "\n",
    "## And lets also make a plotting function real quick\n",
    "\n",
    "def plot_training_history(training_history, cutoff_deg):\n",
    "        fig, (ax1, ax2) = plt.subplots(1, 2, figsize=(12, 5))\n",
    "        \n",
    "        # Loss plot\n",
    "        ax1.plot(training_history['train_loss'], label='Train Loss')\n",
    "        ax1.plot(training_history['val_loss'], label='Validation Loss')\n",
    "        ax1.set_xlabel('Epoch')\n",
    "        ax1.set_ylabel('Loss')\n",
    "        ax1.set_title('Training and Validation Loss')\n",
    "        ax1.legend()\n",
    "        \n",
    "        # Accuracy plot\n",
    "        ax2.plot(training_history['train_acc'], label='Train Accuracy')\n",
    "        ax2.plot(training_history['val_acc'], label='Validation Accuracy')\n",
    "        ax2.set_xlabel('Epoch')\n",
    "        ax2.set_ylabel('Accuracy')\n",
    "        ax2.set_title(f'Accuracy (Cutoff = {cutoff_deg}°)')\n",
    "        ax2.legend()\n",
    "        \n",
    "        plt.tight_layout()\n",
    "        plt.show()"
   ]
  },
  {
   "cell_type": "code",
   "execution_count": 5,
   "id": "3c7d2907",
   "metadata": {},
   "outputs": [],
   "source": [
    "'''\n",
    "There are tons of different options for how to structure these, but we'll do a simple one for this example:\n",
    "'''\n",
    "\n",
    "class EquatorialToGalacticMLP(nn.Module):\n",
    "    \"\"\"An MLP for converting equatorial to galactic coordinates.\n",
    "    \n",
    "    Takes equatorial coordinates (right ascension and declination) as input\n",
    "    and outputs the corresponding galactic coordinates (l, b) in normalized form.\n",
    "    \n",
    "    The Tanh output activation assumes coordinates are normalized to [-1, 1].\n",
    "    \n",
    "    Args:\n",
    "        input_size (int, optional): Number of input features. Defaults to 2 for (ra, dec).\n",
    "        hidden_size (int, optional): Number of neurons in hidden layers. Defaults to 128.\n",
    "\n",
    "\n",
    "    Example:\n",
    "        >>> model = EquatorialToGalacticMLP()\n",
    "        >>> equatorial_coords = torch.tensor([[0.5, -0.2]])  # normalized (ra, dec)\n",
    "        >>> galactic_coords = model(equatorial_coords)  # predicted (l, b)\n",
    "    \"\"\"\n",
    "    def __init__(self, input_size=2, output_size=2, hidden_size=64):\n",
    "        super(EquatorialToGalacticMLP, self).__init__()\n",
    "        \n",
    "        # main body blocks\n",
    "        self.block1 = nn.Sequential(\n",
    "            nn.Linear(input_size, hidden_size),\n",
    "            nn.ReLU()\n",
    "        )\n",
    "\n",
    "        self.block2 = nn.Sequential(\n",
    "            nn.Linear(hidden_size, hidden_size),\n",
    "            nn.ReLU()\n",
    "        )\n",
    "\n",
    "\n",
    "\n",
    "        \n",
    "        # output block \n",
    "        self.end = nn.Sequential(\n",
    "            nn.Linear(hidden_size, output_size),\n",
    "            nn.Tanh()\n",
    "        )\n",
    "\n",
    "    \n",
    "    def forward(self, x):\n",
    "        block1_feats = self.block1(x)\n",
    "        \n",
    "        block2_feats = self.block2(block1_feats)\n",
    "\n",
    "\n",
    "\n",
    "        out = self.end(block2_feats)\n",
    "    \n",
    "        return out\n",
    "\n"
   ]
  },
  {
   "cell_type": "code",
   "execution_count": 7,
   "id": "5de20639",
   "metadata": {},
   "outputs": [
    {
     "name": "stdout",
     "output_type": "stream",
     "text": [
      "Using device:cpu\n"
     ]
    },
    {
     "name": "stderr",
     "output_type": "stream",
     "text": [
      "                                                              \r"
     ]
    },
    {
     "name": "stdout",
     "output_type": "stream",
     "text": [
      "Epoch 1/200: Train Loss: 14.8211, Val Loss: 7.0077 | Train Acc: 9.38%, Val Acc: 7.38% | l Acc: 29.73%, b Acc: 19.39%\n"
     ]
    },
    {
     "name": "stderr",
     "output_type": "stream",
     "text": [
      "                                                              \r"
     ]
    },
    {
     "name": "stdout",
     "output_type": "stream",
     "text": [
      "Epoch 2/200: Train Loss: 5.9221, Val Loss: 4.6775 | Train Acc: 22.40%, Val Acc: 24.25% | l Acc: 40.58%, b Acc: 47.14%\n"
     ]
    },
    {
     "name": "stderr",
     "output_type": "stream",
     "text": [
      "                                                              \r"
     ]
    },
    {
     "name": "stdout",
     "output_type": "stream",
     "text": [
      "Epoch 3/200: Train Loss: 4.6865, Val Loss: 3.6018 | Train Acc: 24.76%, Val Acc: 36.18% | l Acc: 44.50%, b Acc: 70.54%\n"
     ]
    },
    {
     "name": "stderr",
     "output_type": "stream",
     "text": [
      "                                                               \r"
     ]
    },
    {
     "name": "stdout",
     "output_type": "stream",
     "text": [
      "Epoch 4/200: Train Loss: 3.9665, Val Loss: 3.3979 | Train Acc: 29.80%, Val Acc: 23.28% | l Acc: 46.48%, b Acc: 53.44%\n"
     ]
    },
    {
     "name": "stderr",
     "output_type": "stream",
     "text": [
      "                                                              \r"
     ]
    },
    {
     "name": "stdout",
     "output_type": "stream",
     "text": [
      "Epoch 5/200: Train Loss: 3.3298, Val Loss: 2.8127 | Train Acc: 36.41%, Val Acc: 40.27% | l Acc: 46.00%, b Acc: 72.28%\n"
     ]
    },
    {
     "name": "stderr",
     "output_type": "stream",
     "text": [
      "                                                              \r"
     ]
    },
    {
     "name": "stdout",
     "output_type": "stream",
     "text": [
      "Epoch 6/200: Train Loss: 3.1618, Val Loss: 2.9894 | Train Acc: 35.38%, Val Acc: 38.55% | l Acc: 61.20%, b Acc: 53.44%\n"
     ]
    },
    {
     "name": "stderr",
     "output_type": "stream",
     "text": [
      "                                                              \r"
     ]
    },
    {
     "name": "stdout",
     "output_type": "stream",
     "text": [
      "Epoch 7/200: Train Loss: 2.8713, Val Loss: 2.9615 | Train Acc: 36.08%, Val Acc: 12.83% | l Acc: 16.18%, b Acc: 67.06%\n"
     ]
    },
    {
     "name": "stderr",
     "output_type": "stream",
     "text": [
      "                                                              \r"
     ]
    },
    {
     "name": "stdout",
     "output_type": "stream",
     "text": [
      "Epoch 8/200: Train Loss: 2.8389, Val Loss: 2.5614 | Train Acc: 34.08%, Val Acc: 30.57% | l Acc: 30.91%, b Acc: 83.41%\n"
     ]
    },
    {
     "name": "stderr",
     "output_type": "stream",
     "text": [
      "                                                              \r"
     ]
    },
    {
     "name": "stdout",
     "output_type": "stream",
     "text": [
      "Epoch 9/200: Train Loss: 2.4457, Val Loss: 2.1792 | Train Acc: 43.36%, Val Acc: 41.62% | l Acc: 59.52%, b Acc: 63.37%\n"
     ]
    },
    {
     "name": "stderr",
     "output_type": "stream",
     "text": [
      "                                                              \r"
     ]
    },
    {
     "name": "stdout",
     "output_type": "stream",
     "text": [
      "Epoch 10/200: Train Loss: 2.2096, Val Loss: 2.5328 | Train Acc: 48.06%, Val Acc: 29.50% | l Acc: 40.97%, b Acc: 74.03%\n"
     ]
    },
    {
     "name": "stderr",
     "output_type": "stream",
     "text": [
      "                                                              \r"
     ]
    },
    {
     "name": "stdout",
     "output_type": "stream",
     "text": [
      "Epoch 11/200: Train Loss: 2.1807, Val Loss: 2.2355 | Train Acc: 46.49%, Val Acc: 25.14% | l Acc: 49.58%, b Acc: 61.17%\n"
     ]
    },
    {
     "name": "stderr",
     "output_type": "stream",
     "text": [
      "                                                              \r"
     ]
    },
    {
     "name": "stdout",
     "output_type": "stream",
     "text": [
      "Epoch 12/200: Train Loss: 2.1363, Val Loss: 1.5445 | Train Acc: 44.32%, Val Acc: 66.12% | l Acc: 74.48%, b Acc: 85.39%\n"
     ]
    },
    {
     "name": "stderr",
     "output_type": "stream",
     "text": [
      "                                                              \r"
     ]
    },
    {
     "name": "stdout",
     "output_type": "stream",
     "text": [
      "Epoch 13/200: Train Loss: 2.0401, Val Loss: 1.9265 | Train Acc: 48.51%, Val Acc: 35.21% | l Acc: 51.02%, b Acc: 73.98%\n"
     ]
    },
    {
     "name": "stderr",
     "output_type": "stream",
     "text": [
      "                                                              \r"
     ]
    },
    {
     "name": "stdout",
     "output_type": "stream",
     "text": [
      "Epoch 14/200: Train Loss: 2.0336, Val Loss: 1.7143 | Train Acc: 45.94%, Val Acc: 45.99% | l Acc: 44.94%, b Acc: 89.80%\n"
     ]
    },
    {
     "name": "stderr",
     "output_type": "stream",
     "text": [
      "                                                              \r"
     ]
    },
    {
     "name": "stdout",
     "output_type": "stream",
     "text": [
      "Epoch 15/200: Train Loss: 1.8477, Val Loss: 2.0124 | Train Acc: 50.83%, Val Acc: 33.53% | l Acc: 56.81%, b Acc: 65.70%\n"
     ]
    },
    {
     "name": "stderr",
     "output_type": "stream",
     "text": [
      "                                                              \r"
     ]
    },
    {
     "name": "stdout",
     "output_type": "stream",
     "text": [
      "Epoch 16/200: Train Loss: 1.8437, Val Loss: 2.3275 | Train Acc: 51.83%, Val Acc: 23.23% | l Acc: 40.63%, b Acc: 54.41%\n"
     ]
    },
    {
     "name": "stderr",
     "output_type": "stream",
     "text": [
      "                                                              \r"
     ]
    },
    {
     "name": "stdout",
     "output_type": "stream",
     "text": [
      "Epoch 17/200: Train Loss: 1.2238, Val Loss: 1.3708 | Train Acc: 79.64%, Val Acc: 67.69% | l Acc: 78.84%, b Acc: 78.64%\n"
     ]
    },
    {
     "name": "stderr",
     "output_type": "stream",
     "text": [
      "                                                              \r"
     ]
    },
    {
     "name": "stdout",
     "output_type": "stream",
     "text": [
      "Epoch 18/200: Train Loss: 1.2220, Val Loss: 1.0507 | Train Acc: 79.72%, Val Acc: 84.22% | l Acc: 80.42%, b Acc: 95.16%\n"
     ]
    },
    {
     "name": "stderr",
     "output_type": "stream",
     "text": [
      "                                                               \r"
     ]
    },
    {
     "name": "stdout",
     "output_type": "stream",
     "text": [
      "Epoch 19/200: Train Loss: 1.2663, Val Loss: 1.0431 | Train Acc: 75.98%, Val Acc: 85.66% | l Acc: 82.69%, b Acc: 95.50%\n"
     ]
    },
    {
     "name": "stderr",
     "output_type": "stream",
     "text": [
      "                                                              \r"
     ]
    },
    {
     "name": "stdout",
     "output_type": "stream",
     "text": [
      "Epoch 20/200: Train Loss: 1.1500, Val Loss: 1.1270 | Train Acc: 79.48%, Val Acc: 79.55% | l Acc: 80.71%, b Acc: 91.41%\n"
     ]
    },
    {
     "name": "stderr",
     "output_type": "stream",
     "text": [
      "                                                              \r"
     ]
    },
    {
     "name": "stdout",
     "output_type": "stream",
     "text": [
      "Epoch 21/200: Train Loss: 1.1521, Val Loss: 1.2091 | Train Acc: 78.55%, Val Acc: 81.86% | l Acc: 84.41%, b Acc: 91.68%\n"
     ]
    },
    {
     "name": "stderr",
     "output_type": "stream",
     "text": [
      "                                                              \r"
     ]
    },
    {
     "name": "stdout",
     "output_type": "stream",
     "text": [
      "Epoch 22/200: Train Loss: 1.1670, Val Loss: 1.1355 | Train Acc: 79.84%, Val Acc: 81.83% | l Acc: 82.78%, b Acc: 93.75%\n"
     ]
    },
    {
     "name": "stderr",
     "output_type": "stream",
     "text": [
      "                                                              \r"
     ]
    },
    {
     "name": "stdout",
     "output_type": "stream",
     "text": [
      "Epoch 23/200: Train Loss: 1.1150, Val Loss: 0.9957 | Train Acc: 80.64%, Val Acc: 85.61% | l Acc: 81.64%, b Acc: 96.55%\n"
     ]
    },
    {
     "name": "stderr",
     "output_type": "stream",
     "text": [
      "                                                               \r"
     ]
    },
    {
     "name": "stdout",
     "output_type": "stream",
     "text": [
      "Epoch 24/200: Train Loss: 1.1292, Val Loss: 1.2873 | Train Acc: 80.08%, Val Acc: 63.73% | l Acc: 69.65%, b Acc: 90.66%\n"
     ]
    },
    {
     "name": "stderr",
     "output_type": "stream",
     "text": [
      "                                                              \r"
     ]
    },
    {
     "name": "stdout",
     "output_type": "stream",
     "text": [
      "Epoch 25/200: Train Loss: 1.1358, Val Loss: 1.0373 | Train Acc: 79.68%, Val Acc: 86.77% | l Acc: 86.28%, b Acc: 96.31%\n"
     ]
    },
    {
     "name": "stderr",
     "output_type": "stream",
     "text": [
      "                                                              \r"
     ]
    },
    {
     "name": "stdout",
     "output_type": "stream",
     "text": [
      "Epoch 26/200: Train Loss: 1.1362, Val Loss: 1.0203 | Train Acc: 79.59%, Val Acc: 85.39% | l Acc: 82.52%, b Acc: 96.80%\n"
     ]
    },
    {
     "name": "stderr",
     "output_type": "stream",
     "text": [
      "                                                              \r"
     ]
    },
    {
     "name": "stdout",
     "output_type": "stream",
     "text": [
      "Epoch 27/200: Train Loss: 1.0752, Val Loss: 1.0930 | Train Acc: 81.70%, Val Acc: 76.98% | l Acc: 84.30%, b Acc: 87.14%\n"
     ]
    },
    {
     "name": "stderr",
     "output_type": "stream",
     "text": [
      "                                                              \r"
     ]
    },
    {
     "name": "stdout",
     "output_type": "stream",
     "text": [
      "Epoch 28/200: Train Loss: 0.8360, Val Loss: 0.7869 | Train Acc: 89.27%, Val Acc: 92.72% | l Acc: 89.79%, b Acc: 97.40%\n"
     ]
    },
    {
     "name": "stderr",
     "output_type": "stream",
     "text": [
      "                                                              \r"
     ]
    },
    {
     "name": "stdout",
     "output_type": "stream",
     "text": [
      "Epoch 29/200: Train Loss: 0.8096, Val Loss: 0.7911 | Train Acc: 89.80%, Val Acc: 90.69% | l Acc: 87.08%, b Acc: 97.52%\n"
     ]
    },
    {
     "name": "stderr",
     "output_type": "stream",
     "text": [
      "                                                               \r"
     ]
    },
    {
     "name": "stdout",
     "output_type": "stream",
     "text": [
      "Epoch 30/200: Train Loss: 0.8641, Val Loss: 0.8074 | Train Acc: 89.31%, Val Acc: 91.81% | l Acc: 89.22%, b Acc: 97.02%\n"
     ]
    },
    {
     "name": "stderr",
     "output_type": "stream",
     "text": [
      "                                                              \r"
     ]
    },
    {
     "name": "stdout",
     "output_type": "stream",
     "text": [
      "Epoch 31/200: Train Loss: 0.8025, Val Loss: 0.7986 | Train Acc: 89.85%, Val Acc: 93.29% | l Acc: 90.25%, b Acc: 97.60%\n"
     ]
    },
    {
     "name": "stderr",
     "output_type": "stream",
     "text": [
      "                                                              \r"
     ]
    },
    {
     "name": "stdout",
     "output_type": "stream",
     "text": [
      "Epoch 32/200: Train Loss: 0.8191, Val Loss: 0.9696 | Train Acc: 89.28%, Val Acc: 80.92% | l Acc: 77.22%, b Acc: 96.73%\n"
     ]
    },
    {
     "name": "stderr",
     "output_type": "stream",
     "text": [
      "                                                              \r"
     ]
    },
    {
     "name": "stdout",
     "output_type": "stream",
     "text": [
      "Epoch 33/200: Train Loss: 0.7374, Val Loss: 0.7118 | Train Acc: 91.13%, Val Acc: 92.92% | l Acc: 90.32%, b Acc: 97.47%\n"
     ]
    },
    {
     "name": "stderr",
     "output_type": "stream",
     "text": [
      "                                                              \r"
     ]
    },
    {
     "name": "stdout",
     "output_type": "stream",
     "text": [
      "Epoch 34/200: Train Loss: 0.7216, Val Loss: 0.7460 | Train Acc: 91.43%, Val Acc: 93.40% | l Acc: 90.55%, b Acc: 97.52%\n"
     ]
    },
    {
     "name": "stderr",
     "output_type": "stream",
     "text": [
      "                                                              \r"
     ]
    },
    {
     "name": "stdout",
     "output_type": "stream",
     "text": [
      "Epoch 35/200: Train Loss: 0.7394, Val Loss: 0.7554 | Train Acc: 91.52%, Val Acc: 93.03% | l Acc: 90.76%, b Acc: 97.27%\n"
     ]
    },
    {
     "name": "stderr",
     "output_type": "stream",
     "text": [
      "                                                              \r"
     ]
    },
    {
     "name": "stdout",
     "output_type": "stream",
     "text": [
      "Epoch 36/200: Train Loss: 0.7298, Val Loss: 0.7086 | Train Acc: 91.34%, Val Acc: 92.91% | l Acc: 90.37%, b Acc: 97.62%\n"
     ]
    },
    {
     "name": "stderr",
     "output_type": "stream",
     "text": [
      "                                                              \r"
     ]
    },
    {
     "name": "stdout",
     "output_type": "stream",
     "text": [
      "Epoch 37/200: Train Loss: 0.7179, Val Loss: 0.7013 | Train Acc: 91.51%, Val Acc: 93.75% | l Acc: 90.98%, b Acc: 97.73%\n"
     ]
    },
    {
     "name": "stderr",
     "output_type": "stream",
     "text": [
      "                                                              \r"
     ]
    },
    {
     "name": "stdout",
     "output_type": "stream",
     "text": [
      "Epoch 38/200: Train Loss: 0.7256, Val Loss: 0.6938 | Train Acc: 91.38%, Val Acc: 93.92% | l Acc: 91.07%, b Acc: 97.84%\n"
     ]
    },
    {
     "name": "stderr",
     "output_type": "stream",
     "text": [
      "                                                              \r"
     ]
    },
    {
     "name": "stdout",
     "output_type": "stream",
     "text": [
      "Epoch 39/200: Train Loss: 0.7149, Val Loss: 0.6827 | Train Acc: 91.52%, Val Acc: 93.28% | l Acc: 90.39%, b Acc: 97.87%\n"
     ]
    },
    {
     "name": "stderr",
     "output_type": "stream",
     "text": [
      "                                                              \r"
     ]
    },
    {
     "name": "stdout",
     "output_type": "stream",
     "text": [
      "Epoch 40/200: Train Loss: 0.7164, Val Loss: 0.7024 | Train Acc: 91.75%, Val Acc: 93.75% | l Acc: 90.59%, b Acc: 98.00%\n"
     ]
    },
    {
     "name": "stderr",
     "output_type": "stream",
     "text": [
      "                                                              \r"
     ]
    },
    {
     "name": "stdout",
     "output_type": "stream",
     "text": [
      "Epoch 41/200: Train Loss: 0.6997, Val Loss: 0.6848 | Train Acc: 91.80%, Val Acc: 93.70% | l Acc: 90.45%, b Acc: 98.00%\n"
     ]
    },
    {
     "name": "stderr",
     "output_type": "stream",
     "text": [
      "                                                              \r"
     ]
    },
    {
     "name": "stdout",
     "output_type": "stream",
     "text": [
      "Epoch 42/200: Train Loss: 0.6985, Val Loss: 0.6883 | Train Acc: 91.87%, Val Acc: 93.88% | l Acc: 90.85%, b Acc: 98.04%\n"
     ]
    },
    {
     "name": "stderr",
     "output_type": "stream",
     "text": [
      "                                                              \r"
     ]
    },
    {
     "name": "stdout",
     "output_type": "stream",
     "text": [
      "Epoch 43/200: Train Loss: 0.6933, Val Loss: 0.6938 | Train Acc: 92.08%, Val Acc: 94.12% | l Acc: 90.96%, b Acc: 97.91%\n"
     ]
    },
    {
     "name": "stderr",
     "output_type": "stream",
     "text": [
      "                                                              \r"
     ]
    },
    {
     "name": "stdout",
     "output_type": "stream",
     "text": [
      "Epoch 44/200: Train Loss: 0.6534, Val Loss: 0.6523 | Train Acc: 92.36%, Val Acc: 94.27% | l Acc: 91.70%, b Acc: 98.02%\n"
     ]
    },
    {
     "name": "stderr",
     "output_type": "stream",
     "text": [
      "                                                              \r"
     ]
    },
    {
     "name": "stdout",
     "output_type": "stream",
     "text": [
      "Epoch 45/200: Train Loss: 0.6553, Val Loss: 0.6681 | Train Acc: 92.44%, Val Acc: 94.05% | l Acc: 91.25%, b Acc: 98.05%\n"
     ]
    },
    {
     "name": "stderr",
     "output_type": "stream",
     "text": [
      "                                                              \r"
     ]
    },
    {
     "name": "stdout",
     "output_type": "stream",
     "text": [
      "Epoch 46/200: Train Loss: 0.6526, Val Loss: 0.6403 | Train Acc: 92.39%, Val Acc: 94.19% | l Acc: 91.51%, b Acc: 98.02%\n"
     ]
    },
    {
     "name": "stderr",
     "output_type": "stream",
     "text": [
      "                                                              \r"
     ]
    },
    {
     "name": "stdout",
     "output_type": "stream",
     "text": [
      "Epoch 47/200: Train Loss: 0.6473, Val Loss: 0.6661 | Train Acc: 92.49%, Val Acc: 94.26% | l Acc: 91.71%, b Acc: 98.06%\n"
     ]
    },
    {
     "name": "stderr",
     "output_type": "stream",
     "text": [
      "                                                              \r"
     ]
    },
    {
     "name": "stdout",
     "output_type": "stream",
     "text": [
      "Epoch 48/200: Train Loss: 0.6491, Val Loss: 0.6557 | Train Acc: 92.47%, Val Acc: 94.09% | l Acc: 91.47%, b Acc: 98.15%\n"
     ]
    },
    {
     "name": "stderr",
     "output_type": "stream",
     "text": [
      "                                                              \r"
     ]
    },
    {
     "name": "stdout",
     "output_type": "stream",
     "text": [
      "Epoch 49/200: Train Loss: 0.6456, Val Loss: 0.6671 | Train Acc: 92.47%, Val Acc: 94.52% | l Acc: 91.66%, b Acc: 98.08%\n"
     ]
    },
    {
     "name": "stderr",
     "output_type": "stream",
     "text": [
      "                                                              \r"
     ]
    },
    {
     "name": "stdout",
     "output_type": "stream",
     "text": [
      "Epoch 50/200: Train Loss: 0.6464, Val Loss: 0.6528 | Train Acc: 92.63%, Val Acc: 94.05% | l Acc: 91.42%, b Acc: 98.11%\n"
     ]
    },
    {
     "name": "stderr",
     "output_type": "stream",
     "text": [
      "                                                              \r"
     ]
    },
    {
     "name": "stdout",
     "output_type": "stream",
     "text": [
      "Epoch 51/200: Train Loss: 0.6282, Val Loss: 0.6306 | Train Acc: 92.64%, Val Acc: 94.46% | l Acc: 91.97%, b Acc: 98.04%\n"
     ]
    },
    {
     "name": "stderr",
     "output_type": "stream",
     "text": [
      "                                                              \r"
     ]
    },
    {
     "name": "stdout",
     "output_type": "stream",
     "text": [
      "Epoch 52/200: Train Loss: 0.6275, Val Loss: 0.6412 | Train Acc: 92.79%, Val Acc: 94.31% | l Acc: 91.91%, b Acc: 98.08%\n"
     ]
    },
    {
     "name": "stderr",
     "output_type": "stream",
     "text": [
      "                                                              \r"
     ]
    },
    {
     "name": "stdout",
     "output_type": "stream",
     "text": [
      "Epoch 53/200: Train Loss: 0.6263, Val Loss: 0.6413 | Train Acc: 92.69%, Val Acc: 94.49% | l Acc: 91.99%, b Acc: 98.13%\n"
     ]
    },
    {
     "name": "stderr",
     "output_type": "stream",
     "text": [
      "                                                              \r"
     ]
    },
    {
     "name": "stdout",
     "output_type": "stream",
     "text": [
      "Epoch 54/200: Train Loss: 0.6271, Val Loss: 0.6343 | Train Acc: 92.78%, Val Acc: 94.56% | l Acc: 91.96%, b Acc: 98.17%\n"
     ]
    },
    {
     "name": "stderr",
     "output_type": "stream",
     "text": [
      "                                                              \r"
     ]
    },
    {
     "name": "stdout",
     "output_type": "stream",
     "text": [
      "Epoch 55/200: Train Loss: 0.6234, Val Loss: 0.6458 | Train Acc: 92.80%, Val Acc: 94.32% | l Acc: 91.97%, b Acc: 98.07%\n"
     ]
    },
    {
     "name": "stderr",
     "output_type": "stream",
     "text": [
      "                                                              \r"
     ]
    },
    {
     "name": "stdout",
     "output_type": "stream",
     "text": [
      "Epoch 56/200: Train Loss: 0.6168, Val Loss: 0.6312 | Train Acc: 92.82%, Val Acc: 94.42% | l Acc: 92.14%, b Acc: 98.15%\n"
     ]
    },
    {
     "name": "stderr",
     "output_type": "stream",
     "text": [
      "                                                              \r"
     ]
    },
    {
     "name": "stdout",
     "output_type": "stream",
     "text": [
      "Epoch 57/200: Train Loss: 0.6160, Val Loss: 0.6281 | Train Acc: 92.81%, Val Acc: 94.57% | l Acc: 92.38%, b Acc: 98.18%\n"
     ]
    },
    {
     "name": "stderr",
     "output_type": "stream",
     "text": [
      "                                                              \r"
     ]
    },
    {
     "name": "stdout",
     "output_type": "stream",
     "text": [
      "Epoch 58/200: Train Loss: 0.6156, Val Loss: 0.6324 | Train Acc: 92.84%, Val Acc: 94.62% | l Acc: 92.30%, b Acc: 98.15%\n"
     ]
    },
    {
     "name": "stderr",
     "output_type": "stream",
     "text": [
      "                                                              \r"
     ]
    },
    {
     "name": "stdout",
     "output_type": "stream",
     "text": [
      "Epoch 59/200: Train Loss: 0.6156, Val Loss: 0.6325 | Train Acc: 92.87%, Val Acc: 94.30% | l Acc: 91.98%, b Acc: 98.16%\n"
     ]
    },
    {
     "name": "stderr",
     "output_type": "stream",
     "text": [
      "                                                              \r"
     ]
    },
    {
     "name": "stdout",
     "output_type": "stream",
     "text": [
      "Epoch 60/200: Train Loss: 0.6155, Val Loss: 0.6282 | Train Acc: 92.85%, Val Acc: 94.44% | l Acc: 92.16%, b Acc: 98.16%\n"
     ]
    },
    {
     "name": "stderr",
     "output_type": "stream",
     "text": [
      "                                                              \r"
     ]
    },
    {
     "name": "stdout",
     "output_type": "stream",
     "text": [
      "Epoch 61/200: Train Loss: 0.6145, Val Loss: 0.6283 | Train Acc: 92.84%, Val Acc: 94.70% | l Acc: 92.25%, b Acc: 98.17%\n"
     ]
    },
    {
     "name": "stderr",
     "output_type": "stream",
     "text": [
      "                                                              \r"
     ]
    },
    {
     "name": "stdout",
     "output_type": "stream",
     "text": [
      "Epoch 62/200: Train Loss: 0.6101, Val Loss: 0.6230 | Train Acc: 92.92%, Val Acc: 94.49% | l Acc: 92.17%, b Acc: 98.19%\n"
     ]
    },
    {
     "name": "stderr",
     "output_type": "stream",
     "text": [
      "                                                              \r"
     ]
    },
    {
     "name": "stdout",
     "output_type": "stream",
     "text": [
      "Epoch 63/200: Train Loss: 0.6095, Val Loss: 0.6252 | Train Acc: 92.90%, Val Acc: 94.48% | l Acc: 92.05%, b Acc: 98.17%\n"
     ]
    },
    {
     "name": "stderr",
     "output_type": "stream",
     "text": [
      "                                                              \r"
     ]
    },
    {
     "name": "stdout",
     "output_type": "stream",
     "text": [
      "Epoch 64/200: Train Loss: 0.6088, Val Loss: 0.6261 | Train Acc: 92.88%, Val Acc: 94.55% | l Acc: 92.03%, b Acc: 98.19%\n"
     ]
    },
    {
     "name": "stderr",
     "output_type": "stream",
     "text": [
      "                                                              \r"
     ]
    },
    {
     "name": "stdout",
     "output_type": "stream",
     "text": [
      "Epoch 65/200: Train Loss: 0.6096, Val Loss: 0.6240 | Train Acc: 92.92%, Val Acc: 94.52% | l Acc: 92.24%, b Acc: 98.17%\n"
     ]
    },
    {
     "name": "stderr",
     "output_type": "stream",
     "text": [
      "                                                               \r"
     ]
    },
    {
     "name": "stdout",
     "output_type": "stream",
     "text": [
      "Epoch 66/200: Train Loss: 0.6091, Val Loss: 0.6248 | Train Acc: 92.90%, Val Acc: 94.51% | l Acc: 92.24%, b Acc: 98.17%\n"
     ]
    },
    {
     "name": "stderr",
     "output_type": "stream",
     "text": [
      "                                                              \r"
     ]
    },
    {
     "name": "stdout",
     "output_type": "stream",
     "text": [
      "Epoch 67/200: Train Loss: 0.6069, Val Loss: 0.6207 | Train Acc: 92.94%, Val Acc: 94.58% | l Acc: 92.31%, b Acc: 98.19%\n"
     ]
    },
    {
     "name": "stderr",
     "output_type": "stream",
     "text": [
      "                                                              \r"
     ]
    },
    {
     "name": "stdout",
     "output_type": "stream",
     "text": [
      "Epoch 68/200: Train Loss: 0.6066, Val Loss: 0.6212 | Train Acc: 92.90%, Val Acc: 94.50% | l Acc: 92.23%, b Acc: 98.19%\n"
     ]
    },
    {
     "name": "stderr",
     "output_type": "stream",
     "text": [
      "                                                              \r"
     ]
    },
    {
     "name": "stdout",
     "output_type": "stream",
     "text": [
      "Epoch 69/200: Train Loss: 0.6060, Val Loss: 0.6210 | Train Acc: 92.93%, Val Acc: 94.57% | l Acc: 92.18%, b Acc: 98.21%\n"
     ]
    },
    {
     "name": "stderr",
     "output_type": "stream",
     "text": [
      "                                                              \r"
     ]
    },
    {
     "name": "stdout",
     "output_type": "stream",
     "text": [
      "Epoch 70/200: Train Loss: 0.6061, Val Loss: 0.6211 | Train Acc: 92.93%, Val Acc: 94.61% | l Acc: 92.27%, b Acc: 98.19%\n"
     ]
    },
    {
     "name": "stderr",
     "output_type": "stream",
     "text": [
      "                                                              \r"
     ]
    },
    {
     "name": "stdout",
     "output_type": "stream",
     "text": [
      "Epoch 71/200: Train Loss: 0.6061, Val Loss: 0.6220 | Train Acc: 92.92%, Val Acc: 94.59% | l Acc: 92.28%, b Acc: 98.19%\n"
     ]
    },
    {
     "name": "stderr",
     "output_type": "stream",
     "text": [
      "                                                              \r"
     ]
    },
    {
     "name": "stdout",
     "output_type": "stream",
     "text": [
      "Epoch 72/200: Train Loss: 0.6045, Val Loss: 0.6197 | Train Acc: 92.93%, Val Acc: 94.62% | l Acc: 92.33%, b Acc: 98.19%\n"
     ]
    },
    {
     "name": "stderr",
     "output_type": "stream",
     "text": [
      "                                                              \r"
     ]
    },
    {
     "name": "stdout",
     "output_type": "stream",
     "text": [
      "Epoch 73/200: Train Loss: 0.6042, Val Loss: 0.6198 | Train Acc: 92.95%, Val Acc: 94.53% | l Acc: 92.19%, b Acc: 98.19%\n"
     ]
    },
    {
     "name": "stderr",
     "output_type": "stream",
     "text": [
      "                                                              \r"
     ]
    },
    {
     "name": "stdout",
     "output_type": "stream",
     "text": [
      "Epoch 74/200: Train Loss: 0.6040, Val Loss: 0.6197 | Train Acc: 92.95%, Val Acc: 94.54% | l Acc: 92.18%, b Acc: 98.18%\n"
     ]
    },
    {
     "name": "stderr",
     "output_type": "stream",
     "text": [
      "                                                              \r"
     ]
    },
    {
     "name": "stdout",
     "output_type": "stream",
     "text": [
      "Epoch 75/200: Train Loss: 0.6043, Val Loss: 0.6193 | Train Acc: 92.95%, Val Acc: 94.56% | l Acc: 92.27%, b Acc: 98.20%\n"
     ]
    },
    {
     "name": "stderr",
     "output_type": "stream",
     "text": [
      "                                                              \r"
     ]
    },
    {
     "name": "stdout",
     "output_type": "stream",
     "text": [
      "Epoch 76/200: Train Loss: 0.6040, Val Loss: 0.6196 | Train Acc: 92.93%, Val Acc: 94.58% | l Acc: 92.25%, b Acc: 98.20%\n"
     ]
    },
    {
     "name": "stderr",
     "output_type": "stream",
     "text": [
      "                                                              \r"
     ]
    },
    {
     "name": "stdout",
     "output_type": "stream",
     "text": [
      "Epoch 77/200: Train Loss: 0.6044, Val Loss: 0.6193 | Train Acc: 92.94%, Val Acc: 94.56% | l Acc: 92.22%, b Acc: 98.18%\n"
     ]
    },
    {
     "name": "stderr",
     "output_type": "stream",
     "text": [
      "                                                              \r"
     ]
    },
    {
     "name": "stdout",
     "output_type": "stream",
     "text": [
      "Epoch 78/200: Train Loss: 0.6037, Val Loss: 0.6192 | Train Acc: 92.94%, Val Acc: 94.60% | l Acc: 92.33%, b Acc: 98.20%\n"
     ]
    },
    {
     "name": "stderr",
     "output_type": "stream",
     "text": [
      "                                                              \r"
     ]
    },
    {
     "name": "stdout",
     "output_type": "stream",
     "text": [
      "Epoch 79/200: Train Loss: 0.6039, Val Loss: 0.6188 | Train Acc: 92.95%, Val Acc: 94.56% | l Acc: 92.25%, b Acc: 98.22%\n"
     ]
    },
    {
     "name": "stderr",
     "output_type": "stream",
     "text": [
      "                                                              \r"
     ]
    },
    {
     "name": "stdout",
     "output_type": "stream",
     "text": [
      "Epoch 80/200: Train Loss: 0.6038, Val Loss: 0.6188 | Train Acc: 92.96%, Val Acc: 94.58% | l Acc: 92.24%, b Acc: 98.21%\n"
     ]
    },
    {
     "name": "stderr",
     "output_type": "stream",
     "text": [
      "                                                              \r"
     ]
    },
    {
     "name": "stdout",
     "output_type": "stream",
     "text": [
      "Epoch 81/200: Train Loss: 0.6036, Val Loss: 0.6186 | Train Acc: 92.95%, Val Acc: 94.56% | l Acc: 92.21%, b Acc: 98.20%\n"
     ]
    },
    {
     "name": "stderr",
     "output_type": "stream",
     "text": [
      "                                                              \r"
     ]
    },
    {
     "name": "stdout",
     "output_type": "stream",
     "text": [
      "Epoch 82/200: Train Loss: 0.6036, Val Loss: 0.6186 | Train Acc: 92.95%, Val Acc: 94.58% | l Acc: 92.28%, b Acc: 98.20%\n"
     ]
    },
    {
     "name": "stderr",
     "output_type": "stream",
     "text": [
      "                                                              \r"
     ]
    },
    {
     "name": "stdout",
     "output_type": "stream",
     "text": [
      "Epoch 83/200: Train Loss: 0.6040, Val Loss: 0.6191 | Train Acc: 92.97%, Val Acc: 94.62% | l Acc: 92.31%, b Acc: 98.22%\n"
     ]
    },
    {
     "name": "stderr",
     "output_type": "stream",
     "text": [
      "                                                              \r"
     ]
    },
    {
     "name": "stdout",
     "output_type": "stream",
     "text": [
      "Epoch 84/200: Train Loss: 0.6038, Val Loss: 0.6186 | Train Acc: 92.95%, Val Acc: 94.63% | l Acc: 92.33%, b Acc: 98.20%\n"
     ]
    },
    {
     "name": "stderr",
     "output_type": "stream",
     "text": [
      "                                                              \r"
     ]
    },
    {
     "name": "stdout",
     "output_type": "stream",
     "text": [
      "Epoch 85/200: Train Loss: 0.6035, Val Loss: 0.6184 | Train Acc: 92.95%, Val Acc: 94.58% | l Acc: 92.30%, b Acc: 98.20%\n"
     ]
    },
    {
     "name": "stderr",
     "output_type": "stream",
     "text": [
      "                                                              \r"
     ]
    },
    {
     "name": "stdout",
     "output_type": "stream",
     "text": [
      "Epoch 86/200: Train Loss: 0.6038, Val Loss: 0.6179 | Train Acc: 92.95%, Val Acc: 94.56% | l Acc: 92.28%, b Acc: 98.20%\n"
     ]
    },
    {
     "name": "stderr",
     "output_type": "stream",
     "text": [
      "                                                              \r"
     ]
    },
    {
     "name": "stdout",
     "output_type": "stream",
     "text": [
      "Epoch 87/200: Train Loss: 0.6028, Val Loss: 0.6189 | Train Acc: 92.97%, Val Acc: 94.60% | l Acc: 92.33%, b Acc: 98.20%\n"
     ]
    },
    {
     "name": "stderr",
     "output_type": "stream",
     "text": [
      "                                                              \r"
     ]
    },
    {
     "name": "stdout",
     "output_type": "stream",
     "text": [
      "Epoch 88/200: Train Loss: 0.6032, Val Loss: 0.6183 | Train Acc: 92.97%, Val Acc: 94.62% | l Acc: 92.38%, b Acc: 98.18%\n"
     ]
    },
    {
     "name": "stderr",
     "output_type": "stream",
     "text": [
      "                                                              \r"
     ]
    },
    {
     "name": "stdout",
     "output_type": "stream",
     "text": [
      "Epoch 89/200: Train Loss: 0.6034, Val Loss: 0.6175 | Train Acc: 92.95%, Val Acc: 94.56% | l Acc: 92.28%, b Acc: 98.20%\n"
     ]
    },
    {
     "name": "stderr",
     "output_type": "stream",
     "text": [
      "                                                              \r"
     ]
    },
    {
     "name": "stdout",
     "output_type": "stream",
     "text": [
      "Epoch 90/200: Train Loss: 0.6028, Val Loss: 0.6182 | Train Acc: 92.97%, Val Acc: 94.59% | l Acc: 92.27%, b Acc: 98.20%\n"
     ]
    },
    {
     "name": "stderr",
     "output_type": "stream",
     "text": [
      "                                                              \r"
     ]
    },
    {
     "name": "stdout",
     "output_type": "stream",
     "text": [
      "Epoch 91/200: Train Loss: 0.6026, Val Loss: 0.6179 | Train Acc: 92.96%, Val Acc: 94.59% | l Acc: 92.30%, b Acc: 98.20%\n"
     ]
    },
    {
     "name": "stderr",
     "output_type": "stream",
     "text": [
      "                                                               \r"
     ]
    },
    {
     "name": "stdout",
     "output_type": "stream",
     "text": [
      "Epoch 92/200: Train Loss: 0.6032, Val Loss: 0.6176 | Train Acc: 92.97%, Val Acc: 94.54% | l Acc: 92.30%, b Acc: 98.22%\n"
     ]
    },
    {
     "name": "stderr",
     "output_type": "stream",
     "text": [
      "                                                              \r"
     ]
    },
    {
     "name": "stdout",
     "output_type": "stream",
     "text": [
      "Epoch 93/200: Train Loss: 0.6026, Val Loss: 0.6189 | Train Acc: 92.98%, Val Acc: 94.56% | l Acc: 92.19%, b Acc: 98.22%\n"
     ]
    },
    {
     "name": "stderr",
     "output_type": "stream",
     "text": [
      "                                                              \r"
     ]
    },
    {
     "name": "stdout",
     "output_type": "stream",
     "text": [
      "Epoch 94/200: Train Loss: 0.6020, Val Loss: 0.6172 | Train Acc: 92.97%, Val Acc: 94.55% | l Acc: 92.33%, b Acc: 98.21%\n"
     ]
    },
    {
     "name": "stderr",
     "output_type": "stream",
     "text": [
      "                                                              \r"
     ]
    },
    {
     "name": "stdout",
     "output_type": "stream",
     "text": [
      "Epoch 95/200: Train Loss: 0.6018, Val Loss: 0.6171 | Train Acc: 92.95%, Val Acc: 94.58% | l Acc: 92.33%, b Acc: 98.22%\n"
     ]
    },
    {
     "name": "stderr",
     "output_type": "stream",
     "text": [
      "                                                               \r"
     ]
    },
    {
     "name": "stdout",
     "output_type": "stream",
     "text": [
      "Epoch 96/200: Train Loss: 0.6014, Val Loss: 0.6167 | Train Acc: 92.97%, Val Acc: 94.56% | l Acc: 92.32%, b Acc: 98.22%\n"
     ]
    },
    {
     "name": "stderr",
     "output_type": "stream",
     "text": [
      "                                                              \r"
     ]
    },
    {
     "name": "stdout",
     "output_type": "stream",
     "text": [
      "Epoch 97/200: Train Loss: 0.6018, Val Loss: 0.6169 | Train Acc: 92.96%, Val Acc: 94.59% | l Acc: 92.30%, b Acc: 98.22%\n"
     ]
    },
    {
     "name": "stderr",
     "output_type": "stream",
     "text": [
      "                                                              \r"
     ]
    },
    {
     "name": "stdout",
     "output_type": "stream",
     "text": [
      "Epoch 98/200: Train Loss: 0.6014, Val Loss: 0.6170 | Train Acc: 92.98%, Val Acc: 94.58% | l Acc: 92.32%, b Acc: 98.22%\n"
     ]
    },
    {
     "name": "stderr",
     "output_type": "stream",
     "text": [
      "                                                              \r"
     ]
    },
    {
     "name": "stdout",
     "output_type": "stream",
     "text": [
      "Epoch 99/200: Train Loss: 0.6015, Val Loss: 0.6170 | Train Acc: 92.96%, Val Acc: 94.55% | l Acc: 92.22%, b Acc: 98.20%\n"
     ]
    },
    {
     "name": "stderr",
     "output_type": "stream",
     "text": [
      "                                                              \r"
     ]
    },
    {
     "name": "stdout",
     "output_type": "stream",
     "text": [
      "Epoch 100/200: Train Loss: 0.6015, Val Loss: 0.6169 | Train Acc: 92.96%, Val Acc: 94.60% | l Acc: 92.38%, b Acc: 98.22%\n"
     ]
    },
    {
     "name": "stderr",
     "output_type": "stream",
     "text": [
      "                                                              \r"
     ]
    },
    {
     "name": "stdout",
     "output_type": "stream",
     "text": [
      "Epoch 101/200: Train Loss: 0.6011, Val Loss: 0.6166 | Train Acc: 92.99%, Val Acc: 94.59% | l Acc: 92.33%, b Acc: 98.21%\n"
     ]
    },
    {
     "name": "stderr",
     "output_type": "stream",
     "text": [
      "                                                              \r"
     ]
    },
    {
     "name": "stdout",
     "output_type": "stream",
     "text": [
      "Epoch 102/200: Train Loss: 0.6013, Val Loss: 0.6165 | Train Acc: 92.97%, Val Acc: 94.59% | l Acc: 92.30%, b Acc: 98.20%\n"
     ]
    },
    {
     "name": "stderr",
     "output_type": "stream",
     "text": [
      "                                                              \r"
     ]
    },
    {
     "name": "stdout",
     "output_type": "stream",
     "text": [
      "Epoch 103/200: Train Loss: 0.6016, Val Loss: 0.6168 | Train Acc: 92.97%, Val Acc: 94.55% | l Acc: 92.31%, b Acc: 98.20%\n"
     ]
    },
    {
     "name": "stderr",
     "output_type": "stream",
     "text": [
      "                                                              \r"
     ]
    },
    {
     "name": "stdout",
     "output_type": "stream",
     "text": [
      "Epoch 104/200: Train Loss: 0.6010, Val Loss: 0.6166 | Train Acc: 92.97%, Val Acc: 94.58% | l Acc: 92.30%, b Acc: 98.20%\n"
     ]
    },
    {
     "name": "stderr",
     "output_type": "stream",
     "text": [
      "                                                              \r"
     ]
    },
    {
     "name": "stdout",
     "output_type": "stream",
     "text": [
      "Epoch 105/200: Train Loss: 0.6022, Val Loss: 0.6164 | Train Acc: 92.98%, Val Acc: 94.57% | l Acc: 92.32%, b Acc: 98.20%\n"
     ]
    },
    {
     "name": "stderr",
     "output_type": "stream",
     "text": [
      "                                                              \r"
     ]
    },
    {
     "name": "stdout",
     "output_type": "stream",
     "text": [
      "Epoch 106/200: Train Loss: 0.6013, Val Loss: 0.6164 | Train Acc: 92.97%, Val Acc: 94.60% | l Acc: 92.33%, b Acc: 98.21%\n"
     ]
    },
    {
     "name": "stderr",
     "output_type": "stream",
     "text": [
      "                                                              \r"
     ]
    },
    {
     "name": "stdout",
     "output_type": "stream",
     "text": [
      "Epoch 107/200: Train Loss: 0.6017, Val Loss: 0.6164 | Train Acc: 92.97%, Val Acc: 94.59% | l Acc: 92.32%, b Acc: 98.20%\n"
     ]
    },
    {
     "name": "stderr",
     "output_type": "stream",
     "text": [
      "                                                              \r"
     ]
    },
    {
     "name": "stdout",
     "output_type": "stream",
     "text": [
      "Epoch 108/200: Train Loss: 0.6020, Val Loss: 0.6164 | Train Acc: 92.97%, Val Acc: 94.59% | l Acc: 92.33%, b Acc: 98.20%\n"
     ]
    },
    {
     "name": "stderr",
     "output_type": "stream",
     "text": [
      "                                                              \r"
     ]
    },
    {
     "name": "stdout",
     "output_type": "stream",
     "text": [
      "Epoch 109/200: Train Loss: 0.6009, Val Loss: 0.6165 | Train Acc: 92.96%, Val Acc: 94.63% | l Acc: 92.36%, b Acc: 98.21%\n"
     ]
    },
    {
     "name": "stderr",
     "output_type": "stream",
     "text": [
      "                                                              \r"
     ]
    },
    {
     "name": "stdout",
     "output_type": "stream",
     "text": [
      "Epoch 110/200: Train Loss: 0.6011, Val Loss: 0.6162 | Train Acc: 92.97%, Val Acc: 94.60% | l Acc: 92.32%, b Acc: 98.21%\n"
     ]
    },
    {
     "name": "stderr",
     "output_type": "stream",
     "text": [
      "                                                              \r"
     ]
    },
    {
     "name": "stdout",
     "output_type": "stream",
     "text": [
      "Epoch 111/200: Train Loss: 0.6006, Val Loss: 0.6163 | Train Acc: 92.98%, Val Acc: 94.59% | l Acc: 92.31%, b Acc: 98.20%\n"
     ]
    },
    {
     "name": "stderr",
     "output_type": "stream",
     "text": [
      "                                                              \r"
     ]
    },
    {
     "name": "stdout",
     "output_type": "stream",
     "text": [
      "Epoch 112/200: Train Loss: 0.6010, Val Loss: 0.6162 | Train Acc: 92.98%, Val Acc: 94.60% | l Acc: 92.33%, b Acc: 98.20%\n"
     ]
    },
    {
     "name": "stderr",
     "output_type": "stream",
     "text": [
      "                                                              \r"
     ]
    },
    {
     "name": "stdout",
     "output_type": "stream",
     "text": [
      "Epoch 113/200: Train Loss: 0.6007, Val Loss: 0.6162 | Train Acc: 92.97%, Val Acc: 94.59% | l Acc: 92.31%, b Acc: 98.21%\n"
     ]
    },
    {
     "name": "stderr",
     "output_type": "stream",
     "text": [
      "                                                              \r"
     ]
    },
    {
     "name": "stdout",
     "output_type": "stream",
     "text": [
      "Epoch 114/200: Train Loss: 0.6006, Val Loss: 0.6164 | Train Acc: 92.98%, Val Acc: 94.59% | l Acc: 92.34%, b Acc: 98.20%\n"
     ]
    },
    {
     "name": "stderr",
     "output_type": "stream",
     "text": [
      "                                                              \r"
     ]
    },
    {
     "name": "stdout",
     "output_type": "stream",
     "text": [
      "Epoch 115/200: Train Loss: 0.6006, Val Loss: 0.6162 | Train Acc: 92.97%, Val Acc: 94.61% | l Acc: 92.33%, b Acc: 98.21%\n"
     ]
    },
    {
     "name": "stderr",
     "output_type": "stream",
     "text": [
      "                                                              \r"
     ]
    },
    {
     "name": "stdout",
     "output_type": "stream",
     "text": [
      "Epoch 116/200: Train Loss: 0.6008, Val Loss: 0.6162 | Train Acc: 92.98%, Val Acc: 94.59% | l Acc: 92.31%, b Acc: 98.20%\n"
     ]
    },
    {
     "name": "stderr",
     "output_type": "stream",
     "text": [
      "                                                              \r"
     ]
    },
    {
     "name": "stdout",
     "output_type": "stream",
     "text": [
      "Epoch 117/200: Train Loss: 0.6007, Val Loss: 0.6161 | Train Acc: 92.98%, Val Acc: 94.59% | l Acc: 92.32%, b Acc: 98.20%\n"
     ]
    },
    {
     "name": "stderr",
     "output_type": "stream",
     "text": [
      "                                                              \r"
     ]
    },
    {
     "name": "stdout",
     "output_type": "stream",
     "text": [
      "Epoch 118/200: Train Loss: 0.6007, Val Loss: 0.6163 | Train Acc: 92.98%, Val Acc: 94.60% | l Acc: 92.33%, b Acc: 98.20%\n"
     ]
    },
    {
     "name": "stderr",
     "output_type": "stream",
     "text": [
      "                                                              \r"
     ]
    },
    {
     "name": "stdout",
     "output_type": "stream",
     "text": [
      "Epoch 119/200: Train Loss: 0.6005, Val Loss: 0.6161 | Train Acc: 92.97%, Val Acc: 94.58% | l Acc: 92.31%, b Acc: 98.20%\n"
     ]
    },
    {
     "name": "stderr",
     "output_type": "stream",
     "text": [
      "                                                              \r"
     ]
    },
    {
     "name": "stdout",
     "output_type": "stream",
     "text": [
      "Epoch 120/200: Train Loss: 0.6013, Val Loss: 0.6161 | Train Acc: 92.97%, Val Acc: 94.60% | l Acc: 92.33%, b Acc: 98.20%\n"
     ]
    },
    {
     "name": "stderr",
     "output_type": "stream",
     "text": [
      "                                                              \r"
     ]
    },
    {
     "name": "stdout",
     "output_type": "stream",
     "text": [
      "Epoch 121/200: Train Loss: 0.6007, Val Loss: 0.6161 | Train Acc: 92.98%, Val Acc: 94.60% | l Acc: 92.33%, b Acc: 98.21%\n"
     ]
    },
    {
     "name": "stderr",
     "output_type": "stream",
     "text": [
      "                                                              \r"
     ]
    },
    {
     "name": "stdout",
     "output_type": "stream",
     "text": [
      "Epoch 122/200: Train Loss: 0.6008, Val Loss: 0.6161 | Train Acc: 92.98%, Val Acc: 94.58% | l Acc: 92.32%, b Acc: 98.20%\n"
     ]
    },
    {
     "name": "stderr",
     "output_type": "stream",
     "text": [
      "                                                               \r"
     ]
    },
    {
     "name": "stdout",
     "output_type": "stream",
     "text": [
      "Epoch 123/200: Train Loss: 0.6009, Val Loss: 0.6161 | Train Acc: 92.97%, Val Acc: 94.60% | l Acc: 92.33%, b Acc: 98.20%\n"
     ]
    },
    {
     "name": "stderr",
     "output_type": "stream",
     "text": [
      "                                                              \r"
     ]
    },
    {
     "name": "stdout",
     "output_type": "stream",
     "text": [
      "Epoch 124/200: Train Loss: 0.6008, Val Loss: 0.6162 | Train Acc: 92.97%, Val Acc: 94.60% | l Acc: 92.33%, b Acc: 98.20%\n"
     ]
    },
    {
     "name": "stderr",
     "output_type": "stream",
     "text": [
      "                                                              \r"
     ]
    },
    {
     "name": "stdout",
     "output_type": "stream",
     "text": [
      "Epoch 125/200: Train Loss: 0.6008, Val Loss: 0.6161 | Train Acc: 92.98%, Val Acc: 94.60% | l Acc: 92.33%, b Acc: 98.20%\n"
     ]
    },
    {
     "name": "stderr",
     "output_type": "stream",
     "text": [
      "                                                              \r"
     ]
    },
    {
     "name": "stdout",
     "output_type": "stream",
     "text": [
      "Epoch 126/200: Train Loss: 0.6003, Val Loss: 0.6161 | Train Acc: 92.98%, Val Acc: 94.60% | l Acc: 92.33%, b Acc: 98.20%\n"
     ]
    },
    {
     "name": "stderr",
     "output_type": "stream",
     "text": [
      "                                                              \r"
     ]
    },
    {
     "name": "stdout",
     "output_type": "stream",
     "text": [
      "Epoch 127/200: Train Loss: 0.6009, Val Loss: 0.6161 | Train Acc: 92.98%, Val Acc: 94.60% | l Acc: 92.33%, b Acc: 98.20%\n"
     ]
    },
    {
     "name": "stderr",
     "output_type": "stream",
     "text": [
      "                                                              \r"
     ]
    },
    {
     "name": "stdout",
     "output_type": "stream",
     "text": [
      "Epoch 128/200: Train Loss: 0.6006, Val Loss: 0.6161 | Train Acc: 92.98%, Val Acc: 94.60% | l Acc: 92.33%, b Acc: 98.20%\n"
     ]
    },
    {
     "name": "stderr",
     "output_type": "stream",
     "text": [
      "                                                              \r"
     ]
    },
    {
     "name": "stdout",
     "output_type": "stream",
     "text": [
      "Epoch 129/200: Train Loss: 0.6007, Val Loss: 0.6161 | Train Acc: 92.97%, Val Acc: 94.60% | l Acc: 92.33%, b Acc: 98.20%\n"
     ]
    },
    {
     "name": "stderr",
     "output_type": "stream",
     "text": [
      "                                                              \r"
     ]
    },
    {
     "name": "stdout",
     "output_type": "stream",
     "text": [
      "Epoch 130/200: Train Loss: 0.6008, Val Loss: 0.6161 | Train Acc: 92.98%, Val Acc: 94.60% | l Acc: 92.33%, b Acc: 98.20%\n"
     ]
    },
    {
     "name": "stderr",
     "output_type": "stream",
     "text": [
      "                                                              \r"
     ]
    },
    {
     "name": "stdout",
     "output_type": "stream",
     "text": [
      "Epoch 131/200: Train Loss: 0.6008, Val Loss: 0.6161 | Train Acc: 92.98%, Val Acc: 94.60% | l Acc: 92.33%, b Acc: 98.20%\n"
     ]
    },
    {
     "name": "stderr",
     "output_type": "stream",
     "text": [
      "                                                              \r"
     ]
    },
    {
     "name": "stdout",
     "output_type": "stream",
     "text": [
      "Epoch 132/200: Train Loss: 0.6013, Val Loss: 0.6161 | Train Acc: 92.98%, Val Acc: 94.60% | l Acc: 92.33%, b Acc: 98.20%\n"
     ]
    },
    {
     "name": "stderr",
     "output_type": "stream",
     "text": [
      "                                                              \r"
     ]
    },
    {
     "name": "stdout",
     "output_type": "stream",
     "text": [
      "Epoch 133/200: Train Loss: 0.6005, Val Loss: 0.6161 | Train Acc: 92.98%, Val Acc: 94.60% | l Acc: 92.33%, b Acc: 98.20%\n"
     ]
    },
    {
     "name": "stderr",
     "output_type": "stream",
     "text": [
      "                                                              \r"
     ]
    },
    {
     "name": "stdout",
     "output_type": "stream",
     "text": [
      "Epoch 134/200: Train Loss: 0.6009, Val Loss: 0.6161 | Train Acc: 92.98%, Val Acc: 94.60% | l Acc: 92.33%, b Acc: 98.20%\n"
     ]
    },
    {
     "name": "stderr",
     "output_type": "stream",
     "text": [
      "                                                              \r"
     ]
    },
    {
     "name": "stdout",
     "output_type": "stream",
     "text": [
      "Epoch 135/200: Train Loss: 0.6002, Val Loss: 0.6161 | Train Acc: 92.97%, Val Acc: 94.60% | l Acc: 92.33%, b Acc: 98.20%\n"
     ]
    },
    {
     "name": "stderr",
     "output_type": "stream",
     "text": [
      "                                                              \r"
     ]
    },
    {
     "name": "stdout",
     "output_type": "stream",
     "text": [
      "Epoch 136/200: Train Loss: 0.6018, Val Loss: 0.6161 | Train Acc: 92.98%, Val Acc: 94.60% | l Acc: 92.33%, b Acc: 98.20%\n"
     ]
    },
    {
     "name": "stderr",
     "output_type": "stream",
     "text": [
      "                                                              \r"
     ]
    },
    {
     "name": "stdout",
     "output_type": "stream",
     "text": [
      "Epoch 137/200: Train Loss: 0.6019, Val Loss: 0.6161 | Train Acc: 92.98%, Val Acc: 94.60% | l Acc: 92.33%, b Acc: 98.20%\n"
     ]
    },
    {
     "name": "stderr",
     "output_type": "stream",
     "text": [
      "                                                              \r"
     ]
    },
    {
     "name": "stdout",
     "output_type": "stream",
     "text": [
      "Epoch 138/200: Train Loss: 0.6006, Val Loss: 0.6161 | Train Acc: 92.98%, Val Acc: 94.60% | l Acc: 92.33%, b Acc: 98.20%\n"
     ]
    },
    {
     "name": "stderr",
     "output_type": "stream",
     "text": [
      "                                                              \r"
     ]
    },
    {
     "name": "stdout",
     "output_type": "stream",
     "text": [
      "Epoch 139/200: Train Loss: 0.6002, Val Loss: 0.6161 | Train Acc: 92.98%, Val Acc: 94.60% | l Acc: 92.33%, b Acc: 98.20%\n"
     ]
    },
    {
     "name": "stderr",
     "output_type": "stream",
     "text": [
      "                                                              \r"
     ]
    },
    {
     "name": "stdout",
     "output_type": "stream",
     "text": [
      "Epoch 140/200: Train Loss: 0.6010, Val Loss: 0.6161 | Train Acc: 92.97%, Val Acc: 94.60% | l Acc: 92.33%, b Acc: 98.20%\n"
     ]
    },
    {
     "name": "stderr",
     "output_type": "stream",
     "text": [
      "                                                              \r"
     ]
    },
    {
     "name": "stdout",
     "output_type": "stream",
     "text": [
      "Epoch 141/200: Train Loss: 0.6012, Val Loss: 0.6161 | Train Acc: 92.98%, Val Acc: 94.60% | l Acc: 92.33%, b Acc: 98.20%\n"
     ]
    },
    {
     "name": "stderr",
     "output_type": "stream",
     "text": [
      "                                                              \r"
     ]
    },
    {
     "name": "stdout",
     "output_type": "stream",
     "text": [
      "Epoch 142/200: Train Loss: 0.6010, Val Loss: 0.6161 | Train Acc: 92.98%, Val Acc: 94.60% | l Acc: 92.33%, b Acc: 98.20%\n"
     ]
    },
    {
     "name": "stderr",
     "output_type": "stream",
     "text": [
      "                                                              \r"
     ]
    },
    {
     "name": "stdout",
     "output_type": "stream",
     "text": [
      "Epoch 143/200: Train Loss: 0.6005, Val Loss: 0.6161 | Train Acc: 92.97%, Val Acc: 94.60% | l Acc: 92.33%, b Acc: 98.20%\n"
     ]
    },
    {
     "name": "stderr",
     "output_type": "stream",
     "text": [
      "                                                              \r"
     ]
    },
    {
     "name": "stdout",
     "output_type": "stream",
     "text": [
      "Epoch 144/200: Train Loss: 0.6006, Val Loss: 0.6161 | Train Acc: 92.98%, Val Acc: 94.60% | l Acc: 92.33%, b Acc: 98.21%\n"
     ]
    },
    {
     "name": "stderr",
     "output_type": "stream",
     "text": [
      "                                                              \r"
     ]
    },
    {
     "name": "stdout",
     "output_type": "stream",
     "text": [
      "Epoch 145/200: Train Loss: 0.6004, Val Loss: 0.6161 | Train Acc: 92.98%, Val Acc: 94.60% | l Acc: 92.33%, b Acc: 98.20%\n"
     ]
    },
    {
     "name": "stderr",
     "output_type": "stream",
     "text": [
      "                                                              \r"
     ]
    },
    {
     "name": "stdout",
     "output_type": "stream",
     "text": [
      "Epoch 146/200: Train Loss: 0.6009, Val Loss: 0.6161 | Train Acc: 92.98%, Val Acc: 94.60% | l Acc: 92.33%, b Acc: 98.20%\n"
     ]
    },
    {
     "name": "stderr",
     "output_type": "stream",
     "text": [
      "                                                              \r"
     ]
    },
    {
     "name": "stdout",
     "output_type": "stream",
     "text": [
      "Epoch 147/200: Train Loss: 0.6003, Val Loss: 0.6161 | Train Acc: 92.98%, Val Acc: 94.60% | l Acc: 92.33%, b Acc: 98.21%\n"
     ]
    },
    {
     "name": "stderr",
     "output_type": "stream",
     "text": [
      "                                                              \r"
     ]
    },
    {
     "name": "stdout",
     "output_type": "stream",
     "text": [
      "Epoch 148/200: Train Loss: 0.6008, Val Loss: 0.6161 | Train Acc: 92.98%, Val Acc: 94.59% | l Acc: 92.33%, b Acc: 98.20%\n"
     ]
    },
    {
     "name": "stderr",
     "output_type": "stream",
     "text": [
      "                                                              \r"
     ]
    },
    {
     "name": "stdout",
     "output_type": "stream",
     "text": [
      "Epoch 149/200: Train Loss: 0.6018, Val Loss: 0.6161 | Train Acc: 92.98%, Val Acc: 94.60% | l Acc: 92.33%, b Acc: 98.20%\n"
     ]
    },
    {
     "name": "stderr",
     "output_type": "stream",
     "text": [
      "                                                              \r"
     ]
    },
    {
     "name": "stdout",
     "output_type": "stream",
     "text": [
      "Epoch 150/200: Train Loss: 0.6006, Val Loss: 0.6161 | Train Acc: 92.98%, Val Acc: 94.60% | l Acc: 92.33%, b Acc: 98.20%\n"
     ]
    },
    {
     "name": "stderr",
     "output_type": "stream",
     "text": [
      "                                                              \r"
     ]
    },
    {
     "name": "stdout",
     "output_type": "stream",
     "text": [
      "Epoch 151/200: Train Loss: 0.6017, Val Loss: 0.6161 | Train Acc: 92.98%, Val Acc: 94.60% | l Acc: 92.33%, b Acc: 98.20%\n"
     ]
    },
    {
     "name": "stderr",
     "output_type": "stream",
     "text": [
      "                                                              \r"
     ]
    },
    {
     "name": "stdout",
     "output_type": "stream",
     "text": [
      "Epoch 152/200: Train Loss: 0.6006, Val Loss: 0.6161 | Train Acc: 92.98%, Val Acc: 94.60% | l Acc: 92.33%, b Acc: 98.21%\n"
     ]
    },
    {
     "name": "stderr",
     "output_type": "stream",
     "text": [
      "                                                               \r"
     ]
    },
    {
     "name": "stdout",
     "output_type": "stream",
     "text": [
      "Epoch 153/200: Train Loss: 0.6010, Val Loss: 0.6161 | Train Acc: 92.97%, Val Acc: 94.60% | l Acc: 92.33%, b Acc: 98.20%\n"
     ]
    },
    {
     "name": "stderr",
     "output_type": "stream",
     "text": [
      "                                                              \r"
     ]
    },
    {
     "name": "stdout",
     "output_type": "stream",
     "text": [
      "Epoch 154/200: Train Loss: 0.6005, Val Loss: 0.6161 | Train Acc: 92.98%, Val Acc: 94.60% | l Acc: 92.33%, b Acc: 98.20%\n"
     ]
    },
    {
     "name": "stderr",
     "output_type": "stream",
     "text": [
      "                                                              \r"
     ]
    },
    {
     "name": "stdout",
     "output_type": "stream",
     "text": [
      "Epoch 155/200: Train Loss: 0.6005, Val Loss: 0.6161 | Train Acc: 92.98%, Val Acc: 94.60% | l Acc: 92.33%, b Acc: 98.20%\n"
     ]
    },
    {
     "name": "stderr",
     "output_type": "stream",
     "text": [
      "                                                              \r"
     ]
    },
    {
     "name": "stdout",
     "output_type": "stream",
     "text": [
      "Epoch 156/200: Train Loss: 0.6008, Val Loss: 0.6161 | Train Acc: 92.98%, Val Acc: 94.60% | l Acc: 92.33%, b Acc: 98.20%\n"
     ]
    },
    {
     "name": "stderr",
     "output_type": "stream",
     "text": [
      "                                                              \r"
     ]
    },
    {
     "name": "stdout",
     "output_type": "stream",
     "text": [
      "Epoch 157/200: Train Loss: 0.6016, Val Loss: 0.6161 | Train Acc: 92.98%, Val Acc: 94.60% | l Acc: 92.33%, b Acc: 98.20%\n"
     ]
    },
    {
     "name": "stderr",
     "output_type": "stream",
     "text": [
      "                                                              \r"
     ]
    },
    {
     "name": "stdout",
     "output_type": "stream",
     "text": [
      "Epoch 158/200: Train Loss: 0.6008, Val Loss: 0.6161 | Train Acc: 92.98%, Val Acc: 94.60% | l Acc: 92.33%, b Acc: 98.20%\n"
     ]
    },
    {
     "name": "stderr",
     "output_type": "stream",
     "text": [
      "                                                              \r"
     ]
    },
    {
     "name": "stdout",
     "output_type": "stream",
     "text": [
      "Epoch 159/200: Train Loss: 0.6010, Val Loss: 0.6161 | Train Acc: 92.97%, Val Acc: 94.60% | l Acc: 92.33%, b Acc: 98.20%\n"
     ]
    },
    {
     "name": "stderr",
     "output_type": "stream",
     "text": [
      "                                                              \r"
     ]
    },
    {
     "name": "stdout",
     "output_type": "stream",
     "text": [
      "Epoch 160/200: Train Loss: 0.6017, Val Loss: 0.6161 | Train Acc: 92.98%, Val Acc: 94.60% | l Acc: 92.33%, b Acc: 98.20%\n"
     ]
    },
    {
     "name": "stderr",
     "output_type": "stream",
     "text": [
      "                                                              \r"
     ]
    },
    {
     "name": "stdout",
     "output_type": "stream",
     "text": [
      "Epoch 161/200: Train Loss: 0.6006, Val Loss: 0.6161 | Train Acc: 92.98%, Val Acc: 94.60% | l Acc: 92.33%, b Acc: 98.20%\n"
     ]
    },
    {
     "name": "stderr",
     "output_type": "stream",
     "text": [
      "                                                               \r"
     ]
    },
    {
     "name": "stdout",
     "output_type": "stream",
     "text": [
      "Epoch 162/200: Train Loss: 0.6003, Val Loss: 0.6161 | Train Acc: 92.98%, Val Acc: 94.60% | l Acc: 92.33%, b Acc: 98.20%\n"
     ]
    },
    {
     "name": "stderr",
     "output_type": "stream",
     "text": [
      "                                                              \r"
     ]
    },
    {
     "name": "stdout",
     "output_type": "stream",
     "text": [
      "Epoch 163/200: Train Loss: 0.6005, Val Loss: 0.6161 | Train Acc: 92.98%, Val Acc: 94.60% | l Acc: 92.33%, b Acc: 98.20%\n"
     ]
    },
    {
     "name": "stderr",
     "output_type": "stream",
     "text": [
      "                                                              \r"
     ]
    },
    {
     "name": "stdout",
     "output_type": "stream",
     "text": [
      "Epoch 164/200: Train Loss: 0.6008, Val Loss: 0.6161 | Train Acc: 92.98%, Val Acc: 94.60% | l Acc: 92.33%, b Acc: 98.20%\n"
     ]
    },
    {
     "name": "stderr",
     "output_type": "stream",
     "text": [
      "                                                              \r"
     ]
    },
    {
     "name": "stdout",
     "output_type": "stream",
     "text": [
      "Epoch 165/200: Train Loss: 0.6004, Val Loss: 0.6161 | Train Acc: 92.97%, Val Acc: 94.60% | l Acc: 92.33%, b Acc: 98.20%\n"
     ]
    },
    {
     "name": "stderr",
     "output_type": "stream",
     "text": [
      "                                                              \r"
     ]
    },
    {
     "name": "stdout",
     "output_type": "stream",
     "text": [
      "Epoch 166/200: Train Loss: 0.6005, Val Loss: 0.6161 | Train Acc: 92.98%, Val Acc: 94.60% | l Acc: 92.33%, b Acc: 98.20%\n"
     ]
    },
    {
     "name": "stderr",
     "output_type": "stream",
     "text": [
      "                                                              \r"
     ]
    },
    {
     "name": "stdout",
     "output_type": "stream",
     "text": [
      "Epoch 167/200: Train Loss: 0.6007, Val Loss: 0.6161 | Train Acc: 92.98%, Val Acc: 94.60% | l Acc: 92.33%, b Acc: 98.20%\n"
     ]
    },
    {
     "name": "stderr",
     "output_type": "stream",
     "text": [
      "                                                              \r"
     ]
    },
    {
     "name": "stdout",
     "output_type": "stream",
     "text": [
      "Epoch 168/200: Train Loss: 0.6005, Val Loss: 0.6161 | Train Acc: 92.98%, Val Acc: 94.60% | l Acc: 92.33%, b Acc: 98.20%\n"
     ]
    },
    {
     "name": "stderr",
     "output_type": "stream",
     "text": [
      "                                                              \r"
     ]
    },
    {
     "name": "stdout",
     "output_type": "stream",
     "text": [
      "Epoch 169/200: Train Loss: 0.6018, Val Loss: 0.6161 | Train Acc: 92.97%, Val Acc: 94.60% | l Acc: 92.33%, b Acc: 98.20%\n"
     ]
    },
    {
     "name": "stderr",
     "output_type": "stream",
     "text": [
      "                                                              \r"
     ]
    },
    {
     "name": "stdout",
     "output_type": "stream",
     "text": [
      "Epoch 170/200: Train Loss: 0.6007, Val Loss: 0.6161 | Train Acc: 92.98%, Val Acc: 94.60% | l Acc: 92.33%, b Acc: 98.20%\n"
     ]
    },
    {
     "name": "stderr",
     "output_type": "stream",
     "text": [
      "                                                              \r"
     ]
    },
    {
     "name": "stdout",
     "output_type": "stream",
     "text": [
      "Epoch 171/200: Train Loss: 0.6008, Val Loss: 0.6161 | Train Acc: 92.98%, Val Acc: 94.60% | l Acc: 92.33%, b Acc: 98.21%\n"
     ]
    },
    {
     "name": "stderr",
     "output_type": "stream",
     "text": [
      "                                                              \r"
     ]
    },
    {
     "name": "stdout",
     "output_type": "stream",
     "text": [
      "Epoch 172/200: Train Loss: 0.6016, Val Loss: 0.6161 | Train Acc: 92.98%, Val Acc: 94.59% | l Acc: 92.33%, b Acc: 98.20%\n"
     ]
    },
    {
     "name": "stderr",
     "output_type": "stream",
     "text": [
      "                                                              \r"
     ]
    },
    {
     "name": "stdout",
     "output_type": "stream",
     "text": [
      "Epoch 173/200: Train Loss: 0.6007, Val Loss: 0.6161 | Train Acc: 92.97%, Val Acc: 94.60% | l Acc: 92.33%, b Acc: 98.20%\n"
     ]
    },
    {
     "name": "stderr",
     "output_type": "stream",
     "text": [
      "                                                              \r"
     ]
    },
    {
     "name": "stdout",
     "output_type": "stream",
     "text": [
      "Epoch 174/200: Train Loss: 0.6007, Val Loss: 0.6161 | Train Acc: 92.97%, Val Acc: 94.60% | l Acc: 92.33%, b Acc: 98.20%\n"
     ]
    },
    {
     "name": "stderr",
     "output_type": "stream",
     "text": [
      "                                                              \r"
     ]
    },
    {
     "name": "stdout",
     "output_type": "stream",
     "text": [
      "Epoch 175/200: Train Loss: 0.6013, Val Loss: 0.6161 | Train Acc: 92.98%, Val Acc: 94.60% | l Acc: 92.33%, b Acc: 98.20%\n"
     ]
    },
    {
     "name": "stderr",
     "output_type": "stream",
     "text": [
      "                                                              \r"
     ]
    },
    {
     "name": "stdout",
     "output_type": "stream",
     "text": [
      "Epoch 176/200: Train Loss: 0.6004, Val Loss: 0.6161 | Train Acc: 92.98%, Val Acc: 94.60% | l Acc: 92.33%, b Acc: 98.20%\n"
     ]
    },
    {
     "name": "stderr",
     "output_type": "stream",
     "text": [
      "                                                              \r"
     ]
    },
    {
     "name": "stdout",
     "output_type": "stream",
     "text": [
      "Epoch 177/200: Train Loss: 0.6003, Val Loss: 0.6161 | Train Acc: 92.98%, Val Acc: 94.60% | l Acc: 92.33%, b Acc: 98.20%\n"
     ]
    },
    {
     "name": "stderr",
     "output_type": "stream",
     "text": [
      "                                                              \r"
     ]
    },
    {
     "name": "stdout",
     "output_type": "stream",
     "text": [
      "Epoch 178/200: Train Loss: 0.6002, Val Loss: 0.6161 | Train Acc: 92.98%, Val Acc: 94.60% | l Acc: 92.33%, b Acc: 98.20%\n"
     ]
    },
    {
     "name": "stderr",
     "output_type": "stream",
     "text": [
      "                                                              \r"
     ]
    },
    {
     "name": "stdout",
     "output_type": "stream",
     "text": [
      "Epoch 179/200: Train Loss: 0.6006, Val Loss: 0.6161 | Train Acc: 92.98%, Val Acc: 94.60% | l Acc: 92.33%, b Acc: 98.20%\n"
     ]
    },
    {
     "name": "stderr",
     "output_type": "stream",
     "text": [
      "                                                              \r"
     ]
    },
    {
     "name": "stdout",
     "output_type": "stream",
     "text": [
      "Epoch 180/200: Train Loss: 0.6007, Val Loss: 0.6161 | Train Acc: 92.98%, Val Acc: 94.60% | l Acc: 92.33%, b Acc: 98.21%\n"
     ]
    },
    {
     "name": "stderr",
     "output_type": "stream",
     "text": [
      "                                                              \r"
     ]
    },
    {
     "name": "stdout",
     "output_type": "stream",
     "text": [
      "Epoch 181/200: Train Loss: 0.6015, Val Loss: 0.6161 | Train Acc: 92.97%, Val Acc: 94.60% | l Acc: 92.33%, b Acc: 98.20%\n"
     ]
    },
    {
     "name": "stderr",
     "output_type": "stream",
     "text": [
      "                                                              \r"
     ]
    },
    {
     "name": "stdout",
     "output_type": "stream",
     "text": [
      "Epoch 182/200: Train Loss: 0.6007, Val Loss: 0.6161 | Train Acc: 92.98%, Val Acc: 94.60% | l Acc: 92.33%, b Acc: 98.20%\n"
     ]
    },
    {
     "name": "stderr",
     "output_type": "stream",
     "text": [
      "                                                              \r"
     ]
    },
    {
     "name": "stdout",
     "output_type": "stream",
     "text": [
      "Epoch 183/200: Train Loss: 0.6004, Val Loss: 0.6161 | Train Acc: 92.98%, Val Acc: 94.60% | l Acc: 92.33%, b Acc: 98.20%\n"
     ]
    },
    {
     "name": "stderr",
     "output_type": "stream",
     "text": [
      "                                                              \r"
     ]
    },
    {
     "name": "stdout",
     "output_type": "stream",
     "text": [
      "Epoch 184/200: Train Loss: 0.6005, Val Loss: 0.6161 | Train Acc: 92.98%, Val Acc: 94.60% | l Acc: 92.33%, b Acc: 98.20%\n"
     ]
    },
    {
     "name": "stderr",
     "output_type": "stream",
     "text": [
      "                                                              \r"
     ]
    },
    {
     "name": "stdout",
     "output_type": "stream",
     "text": [
      "Epoch 185/200: Train Loss: 0.6007, Val Loss: 0.6161 | Train Acc: 92.98%, Val Acc: 94.60% | l Acc: 92.33%, b Acc: 98.20%\n"
     ]
    },
    {
     "name": "stderr",
     "output_type": "stream",
     "text": [
      "                                                              \r"
     ]
    },
    {
     "name": "stdout",
     "output_type": "stream",
     "text": [
      "Epoch 186/200: Train Loss: 0.6004, Val Loss: 0.6161 | Train Acc: 92.98%, Val Acc: 94.60% | l Acc: 92.33%, b Acc: 98.20%\n"
     ]
    },
    {
     "name": "stderr",
     "output_type": "stream",
     "text": [
      "                                                              \r"
     ]
    },
    {
     "name": "stdout",
     "output_type": "stream",
     "text": [
      "Epoch 187/200: Train Loss: 0.6006, Val Loss: 0.6161 | Train Acc: 92.98%, Val Acc: 94.59% | l Acc: 92.33%, b Acc: 98.20%\n"
     ]
    },
    {
     "name": "stderr",
     "output_type": "stream",
     "text": [
      "                                                              \r"
     ]
    },
    {
     "name": "stdout",
     "output_type": "stream",
     "text": [
      "Epoch 188/200: Train Loss: 0.6005, Val Loss: 0.6161 | Train Acc: 92.97%, Val Acc: 94.60% | l Acc: 92.33%, b Acc: 98.21%\n"
     ]
    },
    {
     "name": "stderr",
     "output_type": "stream",
     "text": [
      "                                                              \r"
     ]
    },
    {
     "name": "stdout",
     "output_type": "stream",
     "text": [
      "Epoch 189/200: Train Loss: 0.6001, Val Loss: 0.6161 | Train Acc: 92.98%, Val Acc: 94.60% | l Acc: 92.33%, b Acc: 98.21%\n"
     ]
    },
    {
     "name": "stderr",
     "output_type": "stream",
     "text": [
      "                                                              \r"
     ]
    },
    {
     "name": "stdout",
     "output_type": "stream",
     "text": [
      "Epoch 190/200: Train Loss: 0.6017, Val Loss: 0.6161 | Train Acc: 92.98%, Val Acc: 94.60% | l Acc: 92.33%, b Acc: 98.22%\n"
     ]
    },
    {
     "name": "stderr",
     "output_type": "stream",
     "text": [
      "                                                              \r"
     ]
    },
    {
     "name": "stdout",
     "output_type": "stream",
     "text": [
      "Epoch 191/200: Train Loss: 0.6004, Val Loss: 0.6161 | Train Acc: 92.98%, Val Acc: 94.60% | l Acc: 92.33%, b Acc: 98.21%\n"
     ]
    },
    {
     "name": "stderr",
     "output_type": "stream",
     "text": [
      "                                                              \r"
     ]
    },
    {
     "name": "stdout",
     "output_type": "stream",
     "text": [
      "Epoch 192/200: Train Loss: 0.6007, Val Loss: 0.6161 | Train Acc: 92.98%, Val Acc: 94.60% | l Acc: 92.33%, b Acc: 98.20%\n"
     ]
    },
    {
     "name": "stderr",
     "output_type": "stream",
     "text": [
      "                                                              \r"
     ]
    },
    {
     "name": "stdout",
     "output_type": "stream",
     "text": [
      "Epoch 193/200: Train Loss: 0.6004, Val Loss: 0.6161 | Train Acc: 92.97%, Val Acc: 94.60% | l Acc: 92.33%, b Acc: 98.20%\n"
     ]
    },
    {
     "name": "stderr",
     "output_type": "stream",
     "text": [
      "                                                              \r"
     ]
    },
    {
     "name": "stdout",
     "output_type": "stream",
     "text": [
      "Epoch 194/200: Train Loss: 0.6017, Val Loss: 0.6161 | Train Acc: 92.98%, Val Acc: 94.60% | l Acc: 92.33%, b Acc: 98.20%\n"
     ]
    },
    {
     "name": "stderr",
     "output_type": "stream",
     "text": [
      "                                                              \r"
     ]
    },
    {
     "name": "stdout",
     "output_type": "stream",
     "text": [
      "Epoch 195/200: Train Loss: 0.6006, Val Loss: 0.6161 | Train Acc: 92.98%, Val Acc: 94.60% | l Acc: 92.33%, b Acc: 98.20%\n"
     ]
    },
    {
     "name": "stderr",
     "output_type": "stream",
     "text": [
      "                                                              \r"
     ]
    },
    {
     "name": "stdout",
     "output_type": "stream",
     "text": [
      "Epoch 196/200: Train Loss: 0.6003, Val Loss: 0.6161 | Train Acc: 92.98%, Val Acc: 94.60% | l Acc: 92.34%, b Acc: 98.20%\n"
     ]
    },
    {
     "name": "stderr",
     "output_type": "stream",
     "text": [
      "                                                              \r"
     ]
    },
    {
     "name": "stdout",
     "output_type": "stream",
     "text": [
      "Epoch 197/200: Train Loss: 0.6007, Val Loss: 0.6161 | Train Acc: 92.97%, Val Acc: 94.59% | l Acc: 92.34%, b Acc: 98.21%\n"
     ]
    },
    {
     "name": "stderr",
     "output_type": "stream",
     "text": [
      "                                                              \r"
     ]
    },
    {
     "name": "stdout",
     "output_type": "stream",
     "text": [
      "Epoch 198/200: Train Loss: 0.6004, Val Loss: 0.6161 | Train Acc: 92.98%, Val Acc: 94.60% | l Acc: 92.33%, b Acc: 98.20%\n"
     ]
    },
    {
     "name": "stderr",
     "output_type": "stream",
     "text": [
      "                                                              \r"
     ]
    },
    {
     "name": "stdout",
     "output_type": "stream",
     "text": [
      "Epoch 199/200: Train Loss: 0.6011, Val Loss: 0.6161 | Train Acc: 92.97%, Val Acc: 94.60% | l Acc: 92.33%, b Acc: 98.20%\n"
     ]
    },
    {
     "name": "stderr",
     "output_type": "stream",
     "text": [
      "                                                              \r"
     ]
    },
    {
     "name": "stdout",
     "output_type": "stream",
     "text": [
      "Epoch 200/200: Train Loss: 0.6005, Val Loss: 0.6161 | Train Acc: 92.98%, Val Acc: 94.60% | l Acc: 92.33%, b Acc: 98.22%\n"
     ]
    },
    {
     "data": {
      "image/png": "[encoded data removed]",
      "text/plain": [
       "<Figure size 1200x500 with 2 Axes>"
      ]
     },
     "metadata": {},
     "output_type": "display_data"
    }
   ],
   "source": [
    "\n",
    "# define which device(GPU or CPU) we want to use\n",
    "device=torch.device('cuda' if torch.cuda.is_available() else 'cpu')\n",
    "print(f'Using device:{device}')\n",
    "# if you have multiple GPUs, you can select which one to use by adding the index to the end, ie: \"cuda:0\" or \"cuda:1\"\n",
    "\n",
    "\n",
    "num_epochs = 200\n",
    "learning_rate = 1e-3\n",
    "batch_size = 256\n",
    "cutoff_deg = 1\n",
    "patience = 10\n",
    "hidden_size = 256\n",
    "\n",
    "model = EquatorialToGalacticMLP(hidden_size=hidden_size).to(device)\n",
    "optimizer = optim.Adam(model.parameters(), lr=learning_rate)\n",
    "scheduler = optim.lr_scheduler.ReduceLROnPlateau(optimizer, mode='min', factor=0.5, patience=3)\n",
    "\n",
    "\n",
    "inputs, answers = generate_data(num_samples=100000)\n",
    "inputs_train, inputs_val, answers_train, answers_val = train_test_split(inputs, answers, test_size=0.2, random_state=22)\n",
    "\n",
    "\n",
    "# Convert to PyTorch tensors\n",
    "inputs_train = torch.FloatTensor(inputs_train).to(device)\n",
    "answers_train = torch.FloatTensor(answers_train).to(device)\n",
    "inputs_val = torch.FloatTensor(inputs_val).to(device)\n",
    "answers_val = torch.FloatTensor(answers_val).to(device)\n",
    "\n",
    "\n",
    "\n",
    "\n",
    "\n",
    "\n",
    "training_history = {\n",
    "            'train_loss': [],\n",
    "            'val_loss': [],\n",
    "            'train_acc': [],\n",
    "            'val_acc': [],\n",
    "            'epoch_times': []\n",
    "        }\n",
    "# Training loop\n",
    "try:\n",
    "    for epoch in range(num_epochs):\n",
    "        epoch_start = time.time()\n",
    "        model.train()\n",
    "\n",
    "        permutation = torch.randperm(inputs_train.size()[0])\n",
    "        \n",
    "        train_total = 0\n",
    "        train_correct_l = 0\n",
    "        train_correct_b = 0\n",
    "        epoch_loss = 0\n",
    "        train_correct = 0\n",
    "        best_val_loss = float('inf')\n",
    "        epochs_no_improve = 0\n",
    "\n",
    "\n",
    "        # Iterate through batches using the DataLoader\n",
    "        for i in tqdm(range(0, inputs_train.size()[0], batch_size), unit='batch', desc='Training', leave=False):\n",
    "\n",
    "            indices = permutation[i:i+batch_size]\n",
    "            batch_X, batch_y = inputs_train[indices], answers_train[indices]\n",
    "            \n",
    "            optimizer.zero_grad()\n",
    "            outputs = model(batch_X)\n",
    "            loss = GreatCircleLoss(outputs, batch_y)\n",
    "            loss.backward()\n",
    "            optimizer.step()\n",
    "            \n",
    "            epoch_loss += loss.item()\n",
    "\n",
    "            \n",
    "            # Calculate accuracy for this batch\n",
    "            with torch.no_grad():\n",
    "                true_l, true_b = batch_y[:, 0].cpu().numpy(), batch_y[:, 1].cpu().numpy()\n",
    "                pred_l, pred_b = outputs[:, 0].cpu().numpy(), outputs[:, 1].cpu().numpy()\n",
    "                \n",
    "                # Convert to radians\n",
    "                true_l = (true_l + 1) * np.pi  # [-1,1] -> [0,2pi]\n",
    "                true_b = true_b * np.pi/4      # [-1,1] -> [-pi/4,pi/4]\n",
    "                pred_l = (pred_l + 1) * np.pi\n",
    "                pred_b = pred_b * np.pi/4\n",
    "                \n",
    "                \n",
    "                # Haversine formula for great circle distance\n",
    "                dlon = pred_l - true_l\n",
    "                dlat = pred_b - true_b\n",
    "                a = np.sin(dlat/2)**2 + np.cos(true_b) * np.cos(pred_b) * np.sin(dlon/2)**2\n",
    "                c = 2 * np.arcsin(np.sqrt(a))\n",
    "                great_circle_dist_deg = np.degrees(c)\n",
    "                \n",
    "                # Count correct predictions (within cutoff_deg)\n",
    "                train_correct += np.sum(great_circle_dist_deg < cutoff_deg)\n",
    "                train_total += len(true_l)\n",
    "\n",
    "\n",
    "\n",
    "        train_loss = epoch_loss/(train_total / batch_size) \n",
    "        train_acc_l = train_correct_l / train_total\n",
    "        train_acc_b = train_correct_b / train_total\n",
    "        train_acc = train_correct / train_total\n",
    "\n",
    "        \n",
    "        # Validation\n",
    "        # val_loss, val_l_diff, val_b_diff = get_acc(model, val_loader, device=device)\n",
    "        val_loss, val_acc_l, val_acc_b, val_acc = get_cutoff_acc(model, inputs_val, answers_val, cutoff_deg=cutoff_deg)\n",
    "        \n",
    "        # Update learning rate\n",
    "        scheduler.step(val_loss)\n",
    "        \n",
    "        # Update training history\n",
    "        training_history['train_loss'].append(train_loss)\n",
    "        training_history['val_loss'].append(val_loss)\n",
    "        training_history['train_acc'].append(train_acc)\n",
    "        training_history['val_acc'].append(val_acc)\n",
    "        training_history['epoch_times'].append(time.time() - epoch_start)\n",
    "        \n",
    "        # Early stopping check\n",
    "        if val_loss < best_val_loss:\n",
    "            best_val_loss = val_loss\n",
    "            best_model = model.state_dict()\n",
    "            epochs_no_improve = 0\n",
    "            torch.save(best_model, f\"best_coords_model.pth\")\n",
    "        else:\n",
    "            epochs_no_improve += 1\n",
    "            if epochs_no_improve >= patience:\n",
    "                print(f'Early stopping at epoch {epoch+1}')\n",
    "                break\n",
    "        \n",
    "\n",
    "        print(f'Epoch {epoch+1}/{num_epochs}: '\n",
    "              f'Train Loss: {train_loss:.4f}, Val Loss: {val_loss:.4f} | '\n",
    "              f'Train Acc: {train_acc:.2%}, Val Acc: {val_acc:.2%} | '\n",
    "              f'l Acc: {val_acc_l:.2%}, b Acc: {val_acc_b:.2%}')\n",
    "    model.load_state_dict(torch.load(f\"best_coords_model.pth\"))\n",
    "    plot_training_history(training_history, cutoff_deg)\n",
    "                    \n",
    "except KeyboardInterrupt:\n",
    "    print(f'Early stopping at epoch {epoch+1}')\n",
    "    model.load_state_dict(torch.load(f\"best_coords_model.pth\"))\n",
    "    plot_training_history(training_history, cutoff_deg)\n"
   ]
  },
  {
   "cell_type": "code",
   "execution_count": 10,
   "id": "06e88c94",
   "metadata": {},
   "outputs": [
    {
     "data": {
      "image/png": "[encoded data removed]",
      "text/plain": [
       "<Figure size 1200x800 with 2 Axes>"
      ]
     },
     "metadata": {},
     "output_type": "display_data"
    }
   ],
   "source": [
    "import matplotlib.pyplot as plt\n",
    "import numpy as np\n",
    "from astropy.coordinates import SkyCoord\n",
    "import astropy.units as u\n",
    "\n",
    "def generate_aitoff_plot(model, resolution=300):\n",
    "    \"\"\"Generate an Aitoff projection plot showing loss across the sky\"\"\"\n",
    "    # Create grid of RA/Dec values\n",
    "    ra_values = np.linspace(-180, 180, resolution)  # Aitoff uses -180 to 180\n",
    "    dec_values = np.linspace(-90, 90, resolution)\n",
    "    ra_grid, dec_grid = np.meshgrid(ra_values, dec_values)\n",
    "    \n",
    "    # Initialize loss grid\n",
    "    loss_grid = np.zeros((resolution, resolution))\n",
    "    \n",
    "    model.eval()\n",
    "    \n",
    "    with torch.no_grad():\n",
    "        # Flatten the grid and process all points\n",
    "        all_ra = ra_grid.ravel()\n",
    "        all_dec = dec_grid.ravel()\n",
    "\n",
    "        \n",
    "        # Prepare normalized inputs (convert RA to 0-360 for astropy)\n",
    "        inputs = np.column_stack(((all_ra % 360) / 180 - 1, \n",
    "                         all_dec / 90))\n",
    "        inputs = torch.FloatTensor(inputs).to(device)\n",
    "\n",
    "        \n",
    "        # Get true galactic coordinates\n",
    "        equatorial = SkyCoord(ra=(all_ra % 360)*u.deg, \n",
    "                     dec=all_dec*u.deg, \n",
    "                     frame='icrs')\n",
    "        galactic = equatorial.galactic\n",
    "        l_true = galactic.l.deg\n",
    "        b_true = galactic.b.deg\n",
    "\n",
    "\n",
    "        \n",
    "        # Normalize answers\n",
    "        answers = np.column_stack(((l_true / 180 - 1), \n",
    "                                (b_true / 90)))\n",
    "        answers = torch.FloatTensor(answers).to(device)\n",
    "        \n",
    "\n",
    "\n",
    "\n",
    "        # Calculate loss for all points\n",
    "        outputs = model(inputs)\n",
    "        # batch_loss = GreatCircleLoss_no_average(outputs, answers)\n",
    "        batch_loss = F.mse_loss(outputs, answers, reduction='none').mean(dim=1)\n",
    "\n",
    "\n",
    "\n",
    "\n",
    "        loss_deg = batch_loss.cpu().numpy()  # Convert to degrees\n",
    "        # Reshape back to grid\n",
    "        loss_grid = loss_deg.reshape(resolution, resolution)\n",
    "    \n",
    "    # Create Aitoff projection plot\n",
    "    plt.figure(figsize=(12, 8))\n",
    "    ax = plt.subplot(111, projection='aitoff')\n",
    "    \n",
    "    # Plot the heatmap\n",
    "    im = ax.pcolormesh(np.radians(ra_grid), np.radians(dec_grid), loss_grid,\n",
    "                     cmap='viridis', shading='auto')\n",
    "    \n",
    "    # Add colorbar\n",
    "    cbar = plt.colorbar(im, orientation='horizontal', pad=0.1)\n",
    "    cbar.set_label('Angular Error (degrees)', fontsize=12)\n",
    "    \n",
    "    # Add grid and labels\n",
    "    ax.grid(True, linestyle='--', alpha=0.5)\n",
    "    ax.set_xticklabels(['14h', '16h', '18h', '20h', '22h', '0h', '2h', '4h', '6h', '8h', '10h'])\n",
    "    ax.set_title('Equatorial to Galactic Transformation Error', pad=20)\n",
    "    \n",
    "    # Add galactic plane\n",
    "    galactic_l = np.linspace(-180, 180, 1000)\n",
    "    galactic_b = np.zeros(1000)\n",
    "    galactic_coords = SkyCoord(l=galactic_l*u.deg, b=galactic_b*u.deg, frame='galactic')\n",
    "    equatorial_coords = galactic_coords.icrs\n",
    "    ra_plane = (equatorial_coords.ra.deg + 180) % 360 - 180  # Convert to -180 to 180 range\n",
    "    ax.plot(np.radians(ra_plane), np.radians(equatorial_coords.dec.deg), \n",
    "           'c--', linewidth=1.5, alpha=0.7, label='Galactic Plane')\n",
    "    \n",
    "    plt.legend(loc='lower center')\n",
    "    plt.tight_layout()\n",
    "    plt.savefig('aitoff_error_map.png', dpi=300, bbox_inches='tight')\n",
    "    plt.show()\n",
    "\n",
    "\n",
    "        \n",
    "\n",
    "model.load_state_dict(torch.load(f\"best_coords_model.pth\"))\n",
    "generate_aitoff_plot(model)\n"
   ]
  },
  {
   "cell_type": "code",
   "execution_count": 7,
   "id": "73a8bcc1",
   "metadata": {},
   "outputs": [],
   "source": [
    "\n",
    "\n",
    "def train(config):\n",
    "     \n",
    "\n",
    "    NPY_DIR = config['npy_dir']\n",
    "    # if config[\"gpu\"] in [1, 0]:\n",
    "    #     DEVICE= f\"cuda:{config['gpu']}\"\n",
    "    # else:\n",
    "    #     DEVICE = select_gpu()\n",
    "    DEVICE = \"cuda\"\n",
    "    \n",
    "    print(f\"Using device:{DEVICE}\")\n",
    "    BATCH_SIZE = config['batch_size']\n",
    "    # LR = 0.0006777718906668259  \n",
    "    LR = config['learning_rate']\n",
    "    EPOCHS = config['epochs']\n",
    "    PATIENCE =  config['patience']\n",
    "\n",
    "\n",
    "    for run in range(int(1)):\n",
    "        # print(\"Run ID:\", wandb.run.id)\n",
    "        \n",
    "        # h = random.randint(100, 190)\n",
    "        # loader_seed = h + (run*9)\n",
    "        \n",
    "        seed = config['seed']\n",
    "        loader_seed=config['loader_seed']\n",
    "        # print(f'using loader seed:{loader_seed}')\n",
    "        # Python and numpy\n",
    "        random.seed(seed)\n",
    "        np.random.seed(seed)\n",
    "        \n",
    "        # PyTorch\n",
    "        torch.manual_seed(seed)\n",
    "        if torch.cuda.is_available():\n",
    "            torch.cuda.manual_seed(seed)\n",
    "            torch.cuda.manual_seed_all(seed)\n",
    "        \n",
    "        # Configure PyTorch for deterministic behavior\n",
    "        torch.backends.cudnn.deterministic = True  # This makes CUDA operations deterministic\n",
    "        torch.backends.cudnn.benchmark = False     # Should be False for reproducibility\n",
    "        \n",
    "\n",
    "        \n",
    "\n",
    "        #============================================================\n",
    "        #    Initialize model and optimize tower parameters\n",
    "        # (this is where it's a bit like taming a pack of dragons)\n",
    "        #============================================================\n",
    "\n",
    "        model = config['model']\n",
    "        optimizer = config['optimizer']   \n",
    "        scheduler = config['scheduler']\n",
    "\n",
    "\n",
    "\n",
    "        # Initialize data loaders'\n",
    "        print(\"Loading data...\")\n",
    "        train_loader, val_loader, test_loader, classes = get_dataloaders(config)\n",
    "        print(\"Finished loading data...\")\n",
    "\n",
    "\n",
    "        # class_counts = get_class_counts(train_loader,config)\n",
    "        # train_weights = torch.tensor([\n",
    "                        \n",
    "        #                 30000/(int(count)**(1))                  \n",
    "        #                 for idx, count in enumerate(class_counts)\n",
    "        #             ], device=DEVICE, dtype=torch.float32)\n",
    "\n",
    "        # criterion = nn.CrossEntropyLoss(weight=train_weights, label_smoothing=0.1)\n",
    "        # criterion = nn.CrossEntropyLoss( label_smoothing=0.1)\n",
    "        criterion = nn.BCELoss( )\n",
    "\n",
    "\n",
    "        # assign class weights \n",
    "        \n",
    "\n",
    "        #============================================================\n",
    "        # Main Training Loop\n",
    "        #============================================================\n",
    "\n",
    "        best_pr_auc = 0\n",
    "        best_val_loss = 10\n",
    "        epochs_no_improve = 0\n",
    "\n",
    "        try:\n",
    "            im_fuckin_around = True\n",
    "            for epoch in range(EPOCHS):\n",
    "                model.train()\n",
    "                train_loss = 0.0\n",
    "                # train_loader.dataset.new_epoch()\n",
    "\n",
    "                for batch in tqdm(train_loader, unit='batch', desc='Training', leave=False):\n",
    "                    metadata = batch['metadata'].to(DEVICE)\n",
    "                    image = batch['image'].to(DEVICE)\n",
    "                    target = batch['target'].to(DEVICE)\n",
    "\n",
    "                    optimizer.zero_grad()\n",
    "\n",
    "                    outputs = model(metadata, image=image)\n",
    "                    # target = torch.argmax(target, dim=1)  # Converts [batch, classes] → [batch]\n",
    "\n",
    "                    loss = criterion(outputs, target)\n",
    "\n",
    "                    loss.backward()\n",
    "\n",
    "                    nn.utils.clip_grad_norm_(model.parameters(), max_norm=config['max_norm'])\n",
    "                    optimizer.step()\n",
    "                    train_loss += loss.item()\n",
    "\n",
    "            \n",
    "                val_pr_auc_mean, val_pr_aucs, _, _ = calculate_pr_auc(val_loader, model,  DEVICE, config)\n",
    "                val_loss = calculate_val_loss(val_loader, model, criterion, DEVICE) \n",
    "\n",
    "                train_loss /= len(train_loader)\n",
    "\n",
    "                if config['scheduler'] == 'cosine_annealing':\n",
    "                    scheduler.step()\n",
    "                if config['scheduler'] == 'reduce_on_plateau':\n",
    "                    # scheduler.step(val_loss)\n",
    "                    scheduler.step(1-val_pr_auc_mean)\n",
    "\n",
    "\n",
    "\n",
    "                if val_pr_auc_mean > best_pr_auc:\n",
    "                # if best_val_loss > val_loss:\n",
    "                    print(val_pr_auc_mean)\n",
    "                    best_pr_auc = val_pr_auc_mean\n",
    "                    best_val_loss=val_loss\n",
    "                    epochs_no_improve = 0\n",
    "                    torch.save(model.state_dict(), f\"{config['savepath']}.pth\")\n",
    "                    \n",
    "                else:\n",
    "                    epochs_no_improve += 1\n",
    "                    if epochs_no_improve == PATIENCE:\n",
    "                        print(f\"Early stopping at epoch {epoch+1}\")\n",
    "                        break\n",
    "\n",
    "\n",
    "\n",
    "                \n",
    "                pr_auc_str = \"|\".join([f\"{name}:{auc:.3f}\" for name, auc in zip(config['class_names'], val_pr_aucs)])\n",
    "                print(f\"Epoch {epoch+1}/{EPOCHS}|\"\n",
    "                    f\"Train Loss:{train_loss:.4f}|\"\n",
    "                    f\"Val loss:{val_loss:.3f}|\"\n",
    "                    f\"Macro mean AUPRC:{val_pr_auc_mean:.4f}|\"\n",
    "                    f\"Class AUPRCs:{pr_auc_str}\")\n",
    "            print(f'best loss:{best_val_loss}')\n",
    "            # Evaluation\n",
    "            random_stats = random_baseline_pr_auc(test_loader, n_trials=1000)\n",
    "            print(f\"Random Baseline PR-AUCs (mean ± std):\")\n",
    "            for i, class_name in enumerate(config['classes']):\n",
    "                print(f\"{class_name}: {random_stats['mean'][i]:.3f} ± {random_stats['std'][i]:.3f}\")\n",
    "            \n",
    "\n",
    "            # Plot and save results\n",
    "            model.load_state_dict(torch.load(f\"{config['savepath']}.pth\"))\n",
    "            pr_auc_mean, pr_aucs, plt = plot_combined_results(test_loader, model, DEVICE)\n",
    "\n",
    "\n",
    "\n",
    "        except KeyboardInterrupt:\n",
    "            print(f'best loss:{best_val_loss}')\n",
    "            # Evaluation\n",
    "            random_stats = random_baseline_pr_auc(test_loader, n_trials=1000)\n",
    "            print(f\"Random Baseline PR-AUCs (mean ± std):\")\n",
    "            for i, class_name in enumerate(config['classes']):\n",
    "                print(f\"{class_name}: {random_stats['mean'][i]:.3f} ± {random_stats['std'][i]:.3f}\")\n",
    "            \n",
    "\n",
    "            # Plot and save results\n",
    "            model.load_state_dict(torch.load(f\"{config['savepath']}.pth\"))\n",
    "            pr_auc_mean, pr_aucs, plt = plot_combined_results(test_loader, model, DEVICE)\n",
    "\n",
    "\n",
    "\n",
    "\n",
    "\n",
    "\n",
    "\n",
    "\n",
    "def random_baseline_pr_auc( loader, config, n_trials=1000):\n",
    "    all_targets = []\n",
    "    for batch in loader:\n",
    "        targets = batch['target']  # Directly use the target tensor\n",
    "\n",
    "        # Convert one-hot to class indices if needed\n",
    "        if targets.dim() == 2:\n",
    "            targets = torch.argmax(targets, dim=1)\n",
    "\n",
    "        all_targets.append(targets.cpu().numpy())\n",
    "    targets = np.concatenate(all_targets)\n",
    "    \n",
    "\n",
    "\n",
    "    num_classes = len(config['classes']) \n",
    "    trial_pr_aucs = np.zeros((n_trials, num_classes))\n",
    "\n",
    "\n",
    "    \n",
    "    for trial in range(n_trials):\n",
    "        np.random.seed(trial)\n",
    "        # Generate random probabilities that sum to 1\n",
    "        random_probs = np.random.dirichlet(np.ones(num_classes), size=len(targets))\n",
    "        \n",
    "        for class_idx in range(num_classes):\n",
    "            precision, recall, _ = precision_recall_curve(\n",
    "                (targets == class_idx).astype(int),\n",
    "                random_probs[:, class_idx]\n",
    "            )\n",
    "            trial_pr_aucs[trial, class_idx] = sklearn_auc(recall, precision)\n",
    "    \n",
    "    return {\n",
    "        'mean': np.mean(trial_pr_aucs, axis=0),\n",
    "        'std': np.std(trial_pr_aucs, axis=0),\n",
    "        'all_trials': trial_pr_aucs\n",
    "    }\n"
   ]
  },
  {
   "cell_type": "code",
   "execution_count": 8,
   "id": "c47d91a2",
   "metadata": {},
   "outputs": [],
   "source": [
    "class Coordinate_Tower(nn.Module):\n",
    "    def __init__(self, hidden_size=128):\n",
    "        super(Coordinate_Tower, self).__init__()\n",
    "\n",
    "        self.coords = EquatorialToGalacticMLP(hidden_size = 256) # use the same stats your saved model has\n",
    "        self.coords.load_state_dict(torch.load('best_coords_model.pth', map_location=device) )  # fill in filepath\n",
    "\n",
    "        self.end = nn.Sequential(\n",
    "            nn.Linear(2, 2),\n",
    "            nn.Softmax()\n",
    "        )\n",
    "\n",
    "        \n",
    "    def forward(self, metadata, image):\n",
    "\n",
    "        feats = self.coords(metadata[:, [7,8]])\n",
    "        feats = self.end(feats)\n",
    "\n",
    "        \n",
    "        # feat_1 = torch.zeros_like(feats) - feats\n",
    "        # return nn.Softmax(dim=1)(torch.cat([feats, feat_1], dim=1))\n",
    "        return feats\n",
    "    \n",
    "\n",
    "\n"
   ]
  },
  {
   "cell_type": "code",
   "execution_count": 12,
   "id": "19a8b72a",
   "metadata": {},
   "outputs": [],
   "source": [
    "model = Coordinate_Tower().to(device)"
   ]
  }
 ],
 "metadata": {
  "kernelspec": {
   "display_name": "ztf_2025",
   "language": "python",
   "name": "python3"
  },
  "language_info": {
   "codemirror_mode": {
    "name": "ipython",
    "version": 3
   },
   "file_extension": ".py",
   "mimetype": "text/x-python",
   "name": "python",
   "nbconvert_exporter": "python",
   "pygments_lexer": "ipython3",
   "version": "3.13.5"
  }
 },
 "nbformat": 4,
 "nbformat_minor": 5
}
