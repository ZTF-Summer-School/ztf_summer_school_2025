{
 "cells": [
  {
   "cell_type": "markdown",
   "id": "6a0e1217",
   "metadata": {},
   "source": [
    "\n",
    "# Day 0.5: NeuralNets 101\n",
    "### Benny Border <Borde206@umn.edu>, Felipe Fontinele Nunes <fonti007@umn.edu>\n",
    "NB author: Benny Border\n",
    "\n",
    "\n",
    "\n",
    "\n",
    "\n",
    "\n",
    "\n",
    "\n",
    "With various things taken from from Michael Coughlin(UMN), models from Nabeel Rehemtulla (Northwestern) and timm (huggingface), and many \"willful\" contributions I am currently forgetting  :)\n",
    "\n",
    "\n",
    "\n",
    "Overview: Review on supervised learning, then we'll take a look at MLPs and how they can learn complex relationships, see how different imagenets work, before finally going over images+metadata tactics for transient classification\n",
    "\n"
   ]
  },
  {
   "cell_type": "markdown",
   "id": "dd2deaa3",
   "metadata": {},
   "source": [
    "## Machine Learning, a bundle of math tricks\n",
    "\n",
    "<img src=\"figures/mindmap.jpg\" width=600>\n",
    "\n",
    "tldr: machine learning is just a \"grab-all\" term for algorithms that find patterns in data automatically.\n",
    "\n"
   ]
  },
  {
   "cell_type": "markdown",
   "id": "1e7b61b8",
   "metadata": {},
   "source": [
    "## Two types of learning:\n",
    "\n",
    "- In Supervised Learning you've got labels for the data\n",
    "    - metric defines the distance between predictions for the labels and true labels\n",
    "    - *the labels are correct*\n",
    "\n",
    "- Unsupervised Learning is about finding structure in the data\n",
    "    - metric defines the distance between samples\n",
    "    - useful for clustering, density estimation, anomaly detection\n",
    "\n",
    "\n",
    "### In appleCiDeR though, we like neural networks...\n",
    "\n",
    "\n",
    "### Introducing, Perceptrons:\n",
    "the foundation of neural networks"
   ]
  },
  {
   "cell_type": "markdown",
   "id": "8420bd2d",
   "metadata": {},
   "source": [
    "<img src=\"figures/perceptron1.png\" width=600>"
   ]
  },
  {
   "cell_type": "markdown",
   "id": "0795d257",
   "metadata": {},
   "source": [
    "<img src=\"figures/perceptron3.png\" width=600>\n",
    "\n",
    "## or, $$y=w^ix_i + b$$\n",
    "\n",
    "## or,  \n",
    "\n",
    "$$y=\n",
    "\\begin{bmatrix}\n",
    "a_1 & a_2 & a_3 & \\cdots & a_n \\\\\n",
    "\\end{bmatrix} \\begin{bmatrix}\n",
    "x_1 \\\\\n",
    "x_2 \\\\\n",
    "x_3 \\\\\n",
    "\\vdots \\\\\n",
    "x_n \\\\\n",
    "\\end{bmatrix}\n",
    "= \\begin{bmatrix}\n",
    "a_1 x_1 + a_2 x_2 + a_3 x_3 + \\cdots + a_n x_n \\\\\n",
    "\\end{bmatrix}$$\n",
    "\n",
    "\n",
    "\n",
    "\n",
    "\n",
    "\n",
    "\n",
    "\n",
    "\n",
    "\n",
    "\n",
    "\n"
   ]
  },
  {
   "cell_type": "markdown",
   "id": "51f8b459",
   "metadata": {},
   "source": [
    "### to get an output between 0 and 1, we put the logits through an activation function:\n",
    "<img src=\"figures/perceptron6.png\" width=600>"
   ]
  },
  {
   "cell_type": "markdown",
   "id": "e963a125",
   "metadata": {},
   "source": [
    "<img src=\"figures/activation_functions.png\" width=600>"
   ]
  },
  {
   "cell_type": "markdown",
   "id": "6166fac8",
   "metadata": {},
   "source": [
    "<img src=\"figures/mlp1.png\" width=600>  \n",
    "\n",
    "\n",
    "in terms of linear algebra:\n",
    "\n",
    "\\begin{align*}\n",
    "\\vec{y} =\n",
    "&\\begin{bmatrix}\n",
    "a_1 & a_2 & a_3 & \\cdots & a_n \\\\ \n",
    "b_1 & b_2 & b_3 & \\cdots & b_n \\\\\n",
    "c_1 & c_2 & c_3 & \\cdots & c_n \\\\\n",
    "\\vdots & \\vdots & \\vdots & \\ddots & \\vdots \\\\\n",
    "m_1 & m_2 & m_3 & \\cdots & m_n \\\\\n",
    "\\end{bmatrix}\n",
    "\\begin{bmatrix}\n",
    "x_1 \\\\\n",
    "x_2 \\\\\n",
    "x_3 \\\\\n",
    "\\vdots \\\\\n",
    "x_n \\\\\n",
    "\\end{bmatrix}\n",
    "=\n",
    "\\begin{bmatrix}\n",
    "a_1 x_1 + a_2 x_2 + a_3 x_3 + \\cdots + a_n x_n \\\\\n",
    "b_1 x_1 + b_2 x_2 + b_3 x_3 + \\cdots + b_n x_n \\\\\n",
    "c_1 x_1 + c_2 x_2 + c_3 x_3 + \\cdots + c_n x_n \\\\\n",
    "\\vdots \\\\\n",
    "m_1 x_1 + m_2 x_2 + m_3 x_3 + \\cdots + m_n x_n \\\\\n",
    "\\end{bmatrix}\n",
    "=\n",
    "\\begin{bmatrix}\n",
    "o_1 \\\\\n",
    "o_2 \\\\\n",
    "o_3 \\\\\n",
    "\\cdots \\\\\n",
    "o_m \\\\\n",
    "\\end{bmatrix}\n",
    "\\end{align*}  \n",
    "\n",
    "or, in Einstein notation:\n",
    "\n",
    "## $y_i = W_{ij} x^j + b_i $  \n",
    "logit (noun, float):  \n",
    "    - The raw decimal output of a single perceptron.\n",
    "\n"
   ]
  },
  {
   "cell_type": "markdown",
   "id": "5229f540",
   "metadata": {},
   "source": [
    "<img src=\"figures/dnn1.png\" width=600>"
   ]
  },
  {
   "cell_type": "markdown",
   "id": "5731c3ec",
   "metadata": {},
   "source": [
    "<img src='figures/dl5.png' width=600>  \n"
   ]
  },
  {
   "cell_type": "markdown",
   "id": "94715737",
   "metadata": {},
   "source": [
    "Getting the weights is done by two passes of operations done on the model:\n",
    "- The forward pass:\n",
    "   - Input data is run through the model to produce outputs\n",
    "    - making predictions based on INPUT data\n",
    "- The backward pass:\n",
    "    - Model's predictions are scrutinized and compared with truth values\n",
    "    - Model weights are updated based on performance  \n",
    "\n",
    "\n",
    "\n",
    "\n",
    "To update the weights during backpropagation, we start with defining what is correct and not:  \n",
    "## $\\widehat{y} = \\begin{cases} 1 & \\text{if correct} , \\\\ 0 & \\text{otherwise.} \\end{cases}$\n",
    "\n",
    "\n",
    "\n",
    "Where $\\theta$ is the **threshold**\n",
    "\n",
    "We compare the output vector $y$ to the target/truth $t$ and we want to minimize the error\n",
    "\n",
    "## $ E = 1/2 \\cdot (t-y)^2$\n",
    "\n",
    "To minimize the error, we need to change the weights of the inputs to get $t$ close to $y$.\n"
   ]
  },
  {
   "cell_type": "markdown",
   "id": "7d9cd52b",
   "metadata": {},
   "source": [
    "Let's do this with our old friend, **gradient descent**\n",
    "\n",
    "## $w_i = w'_i - \\eta \\cdot \\frac{dE}{dw_i} $\n",
    "\n",
    "Where $\\eta$ is some constant that we'll call the **learning rate**\n",
    "\n",
    "## $w_i = w'_i + \\eta \\cdot (t-y) \\cdot\\frac{dy}{dw_i} $\n",
    "\n",
    "## $\\frac{dy}{dw_i} = x_i $\n",
    "\n",
    "so.."
   ]
  },
  {
   "cell_type": "markdown",
   "id": "73e06a75",
   "metadata": {},
   "source": [
    "\n",
    "## $w_i = w'_i + \\eta \\cdot (t-y) \\cdot u_i $\n",
    "$\\text{or,}$\n",
    "\n",
    "## $ w_{\\text{new}}  = w_{\\text{old}} + \\eta \\cdot (t-y) \\cdot u$\n",
    "\n"
   ]
  },
  {
   "cell_type": "markdown",
   "id": "7bbf5a38",
   "metadata": {},
   "source": [
    "## Example 1: Transforming Coordinates  \n",
    "To show just how good MLPs are at approximating wacky functions, lets train one to transform points from equatorial coordinates into galactic coordinates  \n",
    "\n",
    "\n",
    "Galactic coords reference:\n",
    "\n",
    " <img src=\"figures/galactic.png\" width=550>\n",
    "\n",
    " l: Galactic longitude  \n",
    " b: Galactic latitude\n",
    "\n"
   ]
  },
  {
   "cell_type": "code",
   "execution_count": 1,
   "id": "d1e49d58",
   "metadata": {},
   "outputs": [
    {
     "name": "stderr",
     "output_type": "stream",
     "text": [
      "/Users/sjcallis/anaconda3/envs/ztfss25/lib/python3.12/site-packages/tqdm/auto.py:21: TqdmWarning: IProgress not found. Please update jupyter and ipywidgets. See https://ipywidgets.readthedocs.io/en/stable/user_install.html\n",
      "  from .autonotebook import tqdm as notebook_tqdm\n"
     ]
    }
   ],
   "source": [
    "import os\n",
    "os.environ['CUDA_LAUNCH_BLOCKING'] = \"1\"  \n",
    "import numpy as np\n",
    "import torch\n",
    "import torch.nn as nn\n",
    "import torch.optim as optim\n",
    "from astropy.coordinates import SkyCoord\n",
    "import astropy.units as u\n",
    "from sklearn.model_selection import train_test_split\n",
    "import matplotlib.pyplot as plt\n",
    "from time import time\n",
    "from copy import deepcopy\n",
    "#from Equi2GalMLP import EquatorialToGalacticMLP\n",
    "from LossFunc import GreatCircleLoss, GreatCircleLoss_no_average\n",
    "from tqdm import tqdm\n",
    "import time\n",
    "from torch.utils.data import Dataset\n",
    "import torch.nn.functional as F\n",
    "import random\n",
    "from dataloader import get_dataloaders\n",
    "import numpy as np\n",
    "from sklearn.metrics import precision_recall_curve, auc, roc_auc_score, roc_curve\n",
    "from torch.optim.lr_scheduler import ReduceLROnPlateau\n",
    "import torch.nn as nn\n",
    "from pathlib import Path\n",
    "from sklearn.metrics import auc as sklearn_auc\n",
    "from plotter import plot_combined_results\n",
    "from datetime import datetime as t\n",
    "from train_utils import select_gpu, calculate_pr_auc, get_class_counts, calculate_val_loss\n",
    "\n",
    "\n",
    "\n",
    "# torch.manual_seed(42)          # CPU\n",
    "# torch.cuda.manual_seed(42)     # Current GPU\n",
    "# torch.cuda.manual_seed_all(42) # All GPUs (if multi-GPU)\n",
    "\n",
    "# # Set NumPy seed\n",
    "# np.random.seed(42)\n",
    "\n",
    "# # Set Python's built-in random seed\n",
    "# random.seed(42)\n",
    "\n",
    "# # Additional PyTorch settings for determinism\n",
    "# torch.backends.cudnn.deterministic = True  # Uses deterministic algorithms\n",
    "# torch.backends.cudnn.benchmark = False     # Disables benchmarking (for reproducibility)"
   ]
  },
  {
   "cell_type": "markdown",
   "id": "6a83f793",
   "metadata": {},
   "source": [
    "\n",
    "lets start by making a function to generate data:\n",
    "\n",
    "\n",
    "note that we don't want to just hand our model the ra/dec in degrees, so we normalize the coordinates to be between -1 and 1"
   ]
  },
  {
   "cell_type": "code",
   "execution_count": 2,
   "id": "0f62736f",
   "metadata": {},
   "outputs": [],
   "source": [
    "def generate_data(num_samples=10000):\n",
    "        \"\"\"Generate training data with RA in degrees (0-360) and Dec in degrees (-90 to 90)\"\"\"\n",
    "        ra = np.random.uniform(0, 360, num_samples)\n",
    "        dec = np.random.uniform(-90, 90, num_samples)\n",
    "        \n",
    "        # Convert to galactic coordinates using astropy\n",
    "        equatorial = SkyCoord(ra=ra*u.deg, dec=dec*u.deg, frame='icrs')\n",
    "        galactic = equatorial.galactic\n",
    "        \n",
    "        # Extract l (0-360) and b (-90 to 90) in degrees\n",
    "        l = galactic.l.deg\n",
    "        b = galactic.b.deg\n",
    "        \n",
    "        # Normalize all values to [-1, 1] range\n",
    "        inputs = np.column_stack((ra / 180 - 1, dec / 90))  # RA: [0,360] -> [-1,1], Dec: [-90,90] -> [-1,1]\n",
    "        answers = np.column_stack((l / 180 - 1, b / 90))     # l: [0,360] -> [-1,1], b: [-90,90] -> [-1,1]\n",
    "        \n",
    "        \n",
    "        return inputs, answers "
   ]
  },
  {
   "cell_type": "markdown",
   "id": "819ef7b0",
   "metadata": {},
   "source": [
    "\n",
    "\n",
    "Now, lets throw together a function that can tell us \"what % of samples fall within X degrees of the correct answer\" "
   ]
  },
  {
   "cell_type": "code",
   "execution_count": 17,
   "id": "9659b635",
   "metadata": {},
   "outputs": [],
   "source": [
    "import numpy as np\n",
    "import torch\n",
    "\n",
    "def get_cutoff_acc(model, X, y, cutoff_deg=1):\n",
    "    model.eval()\n",
    "    with torch.no_grad():\n",
    "        outputs = model(X)\n",
    "        loss = GreatCircleLoss(outputs, y).item()\n",
    "        \n",
    "        # Convert predictions and true values to degrees\n",
    "        true_l, true_b = y[:, 0].cpu().numpy(), y[:, 1].cpu().numpy()\n",
    "        pred_l, pred_b = outputs[:, 0].cpu().numpy(), outputs[:, 1].cpu().numpy()\n",
    "        \n",
    "        true_l = (true_l + 1) * 180  # [-1,1] -> [0,360]\n",
    "        true_b = true_b * 90         # [-1,1] -> [-90,90]\n",
    "        pred_l = (pred_l + 1) * 180\n",
    "        pred_b = pred_b * 90\n",
    "        \n",
    "        # Convert degrees to radians for great circle distance calculation\n",
    "        true_l_rad = np.radians(true_l)\n",
    "        true_b_rad = np.radians(true_b)\n",
    "        pred_l_rad = np.radians(pred_l)\n",
    "        pred_b_rad = np.radians(pred_b)\n",
    "        \n",
    "        # Calculate great circle distance for each point\n",
    "        # Haversine formula\n",
    "        dlon = pred_l_rad - true_l_rad\n",
    "        dlat = pred_b_rad - true_b_rad\n",
    "        a = np.sin(dlat/2)**2 + np.cos(true_b_rad) * np.cos(pred_b_rad) * np.sin(dlon/2)**2\n",
    "        c = 2 * np.arcsin(np.sqrt(a))\n",
    "        great_circle_dist_deg = np.degrees(c)\n",
    "        \n",
    "        # Calculate accuracy based on great circle distance\n",
    "        correct = np.sum(great_circle_dist_deg < cutoff_deg)\n",
    "        total = len(true_l)\n",
    "        acc = correct / total\n",
    "        \n",
    "        # Also compute individual accuracies for l and b (optional)\n",
    "        l_diff = np.abs(true_l - pred_l)\n",
    "        l_diff = np.minimum(l_diff, 360 - l_diff)\n",
    "        b_diff = np.abs(true_b - pred_b)\n",
    "        \n",
    "        correct_l = np.sum(l_diff < cutoff_deg)\n",
    "        correct_b = np.sum(b_diff < cutoff_deg)\n",
    "        \n",
    "        acc_l = correct_l / total\n",
    "        acc_b = correct_b / total\n",
    "        \n",
    "    return loss, acc_l, acc_b, acc\n",
    "\n",
    "\n",
    "\n",
    "\n",
    "## And lets also make a plotting function real quick\n",
    "\n",
    "def plot_training_history(training_history, cutoff_deg, save_path):\n",
    "        fig, (ax1, ax2) = plt.subplots(1, 2, figsize=(12, 5))\n",
    "        \n",
    "        # Loss plot\n",
    "        ax1.plot(training_history['train_loss'], label='Train Loss')\n",
    "        ax1.plot(training_history['val_loss'], label='Validation Loss')\n",
    "        ax1.set_xlabel('Epoch')\n",
    "        ax1.set_ylabel('Loss')\n",
    "        ax1.set_title('Training and Validation Loss')\n",
    "        ax1.legend()\n",
    "        \n",
    "        # Accuracy plot\n",
    "        ax2.plot(training_history['train_acc'], label='Train Accuracy')\n",
    "        ax2.plot(training_history['val_acc'], label='Validation Accuracy')\n",
    "        ax2.set_xlabel('Epoch')\n",
    "        ax2.set_ylabel('Accuracy')\n",
    "        ax2.set_title(f'Accuracy (Cutoff = {cutoff_deg}°)')\n",
    "        ax2.legend()\n",
    "        \n",
    "        plt.tight_layout()\n",
    "        plt.show()\n",
    "        fig.savefig(save_path)"
   ]
  },
  {
   "cell_type": "markdown",
   "id": "a1d3b041",
   "metadata": {},
   "source": [
    "### Model Architecture:"
   ]
  },
  {
   "cell_type": "code",
   "execution_count": 22,
   "id": "0e191016",
   "metadata": {},
   "outputs": [],
   "source": [
    "'''\n",
    "There are tons of different options for how to structure these, but we'll do a simple one for this example:\n",
    "'''\n",
    "\n",
    "class EquatorialToGalacticMLP(nn.Module):\n",
    "    \"\"\"An MLP for converting equatorial to galactic coordinates.\n",
    "    \n",
    "    Takes equatorial coordinates (right ascension and declination) as input\n",
    "    and outputs the corresponding galactic coordinates (l, b) in normalized form.\n",
    "    \n",
    "    The Tanh output activation assumes coordinates are normalized to [-1, 1].\n",
    "    \n",
    "    Args:\n",
    "        input_size (int, optional): Number of input features. Defaults to 2 for (ra, dec).\n",
    "        hidden_size (int, optional): Number of neurons in hidden layers. Defaults to 128.\n",
    "\n",
    "\n",
    "    Example:\n",
    "        >>> model = EquatorialToGalacticMLP()\n",
    "        >>> equatorial_coords = torch.tensor([[0.5, -0.2]])  # normalized (ra, dec)\n",
    "        >>> galactic_coords = model(equatorial_coords)  # predicted (l, b)\n",
    "    \"\"\"\n",
    "    def __init__(self, input_size=2, output_size=2, hidden_size=64):\n",
    "        super(EquatorialToGalacticMLP, self).__init__()\n",
    "        \n",
    "        # main body blocks\n",
    "        self.block1 = nn.Sequential(\n",
    "            nn.Linear(input_size, hidden_size),\n",
    "            nn.ReLU()\n",
    "        )\n",
    "\n",
    "        self.block2 = nn.Sequential(\n",
    "            nn.Linear(hidden_size, hidden_size),\n",
    "            nn.ReLU()\n",
    "        )\n",
    "\n",
    "        self.block3 = nn.Sequential(\n",
    "            nn.Linear(hidden_size, hidden_size),\n",
    "            nn.ReLU()\n",
    "        )\n",
    "\n",
    "        \n",
    "        # output block \n",
    "        self.end = nn.Sequential(\n",
    "            nn.Linear(hidden_size, output_size),\n",
    "            nn.Tanh()\n",
    "        )\n",
    "\n",
    "    \n",
    "    def forward(self, x):\n",
    "        block1_feats = self.block1(x)\n",
    "        \n",
    "        block2_feats = self.block2(block1_feats)\n",
    "\n",
    "        block3_feats = self.block3(block2_feats)\n",
    "\n",
    "        out = self.end(block3_feats)\n",
    "    \n",
    "        return out\n",
    "\n"
   ]
  },
  {
   "cell_type": "markdown",
   "id": "493f2977",
   "metadata": {},
   "source": [
    "### Training Logistics:\n",
    "\n",
    "For reasons that will soon become evident, we are going to split our data into two sets, one training dataset(80%-ish of the total dataset), and one validation set(whatever is leftover).\n",
    "\n",
    "The training dataset will then be further segmented into equal sized \"batches\" of samples. This is because \n",
    "\n",
    "Training is done in stages known as \"Epochs\" (pronounced: eh·puhks). During each epoch, every sample in the training set is run through the once.(unless you configure it to do otherwise, known as oversampling and undersampling)\n"
   ]
  },
  {
   "cell_type": "markdown",
   "id": "dca45e76",
   "metadata": {},
   "source": [
    "\n",
    "\n",
    "Here's a bit of pseudocode of how the script is usually structured\n",
    "- for epoch in epochs:\n",
    "    - training set is broken into equally sized \"batches\" of samples to be handled in succession\n",
    "    - for batch in batches:\n",
    "        - loss function will take the average loss \"score\" of the batch\n",
    "        - loss \"score\" used to calculate the gradients for the weights\n",
    "        - weights are updated by an optimizer\n",
    "        - next batch...\n",
    "\n",
    "    - if (score hasn't improved in X epochs):\n",
    "        - End training\n",
    "    - else:  \n",
    "        - next epoch...  \n"
   ]
  },
  {
   "cell_type": "markdown",
   "id": "c320ea44",
   "metadata": {},
   "source": [
    "### Overtraining: The Bane of Machine Learning  \n",
    "Simply put, overtraining is when a model learns features that don't generalize. These are patterns that *only* exist in the dataset it was trained on, things you wouldn't be able to find in any new data(even if it's from the same source).  \n",
    "<img src=\"figures/overfitted.png\" width=800>  \n",
    "\n",
    "\n",
    "Because of this, we track the performance of our model throughout training on a separate \"validation\" dataset that the model hasn't \"seen\" before, saving the running best performing weights to a file as we go along. This validation score is what we track for early stopping.\n",
    "\n",
    "\n",
    "\n"
   ]
  },
  {
   "cell_type": "markdown",
   "id": "63d3a92f",
   "metadata": {},
   "source": [
    "### That isn't super informative though, because we're also worried about **where** it's right or wrong\n",
    "\n",
    "so lets plot how many degrees off our models predictions are as a function of position:"
   ]
  },
  {
   "cell_type": "code",
   "execution_count": 23,
   "id": "838294c1",
   "metadata": {
    "slideshow": {
     "slide_type": "fragment"
    }
   },
   "outputs": [
    {
     "name": "stdout",
     "output_type": "stream",
     "text": [
      "Using device:cpu\n"
     ]
    },
    {
     "name": "stderr",
     "output_type": "stream",
     "text": [
      "                                                                                "
     ]
    },
    {
     "name": "stdout",
     "output_type": "stream",
     "text": [
      "Epoch 1/50: Train Loss: 11.3812, Val Loss: 5.5039 | Train Acc: 7.12%, Val Acc: 8.09% | l Acc: 19.75%, b Acc: 45.81%\n"
     ]
    },
    {
     "name": "stderr",
     "output_type": "stream",
     "text": [
      "                                                                                "
     ]
    },
    {
     "name": "stdout",
     "output_type": "stream",
     "text": [
      "Epoch 2/50: Train Loss: 4.1250, Val Loss: 3.2325 | Train Acc: 19.11%, Val Acc: 9.56% | l Acc: 29.38%, b Acc: 35.60%\n"
     ]
    },
    {
     "name": "stderr",
     "output_type": "stream",
     "text": [
      "                                                                                "
     ]
    },
    {
     "name": "stdout",
     "output_type": "stream",
     "text": [
      "Epoch 3/50: Train Loss: 3.0798, Val Loss: 3.3815 | Train Acc: 26.85%, Val Acc: 7.96% | l Acc: 16.27%, b Acc: 39.64%\n"
     ]
    },
    {
     "name": "stderr",
     "output_type": "stream",
     "text": [
      "                                                                                "
     ]
    },
    {
     "name": "stdout",
     "output_type": "stream",
     "text": [
      "Epoch 4/50: Train Loss: 2.6144, Val Loss: 2.3061 | Train Acc: 30.65%, Val Acc: 21.41% | l Acc: 25.34%, b Acc: 82.26%\n"
     ]
    },
    {
     "name": "stderr",
     "output_type": "stream",
     "text": [
      "                                                                                "
     ]
    },
    {
     "name": "stdout",
     "output_type": "stream",
     "text": [
      "Epoch 5/50: Train Loss: 2.2512, Val Loss: 2.5273 | Train Acc: 39.14%, Val Acc: 20.95% | l Acc: 24.64%, b Acc: 64.73%\n"
     ]
    },
    {
     "name": "stderr",
     "output_type": "stream",
     "text": [
      "                                                                                "
     ]
    },
    {
     "name": "stdout",
     "output_type": "stream",
     "text": [
      "Epoch 6/50: Train Loss: 1.9949, Val Loss: 1.8551 | Train Acc: 40.37%, Val Acc: 50.21% | l Acc: 47.51%, b Acc: 93.12%\n"
     ]
    },
    {
     "name": "stderr",
     "output_type": "stream",
     "text": [
      "                                                                                "
     ]
    },
    {
     "name": "stdout",
     "output_type": "stream",
     "text": [
      "Epoch 7/50: Train Loss: 1.9698, Val Loss: 1.6912 | Train Acc: 44.77%, Val Acc: 41.47% | l Acc: 56.59%, b Acc: 60.34%\n"
     ]
    },
    {
     "name": "stderr",
     "output_type": "stream",
     "text": [
      "                                                                                "
     ]
    },
    {
     "name": "stdout",
     "output_type": "stream",
     "text": [
      "Epoch 8/50: Train Loss: 1.8310, Val Loss: 2.3570 | Train Acc: 51.57%, Val Acc: 33.03% | l Acc: 33.13%, b Acc: 55.75%\n"
     ]
    },
    {
     "name": "stderr",
     "output_type": "stream",
     "text": [
      "                                                                                "
     ]
    },
    {
     "name": "stdout",
     "output_type": "stream",
     "text": [
      "Epoch 9/50: Train Loss: 1.7526, Val Loss: 1.7693 | Train Acc: 46.33%, Val Acc: 39.90% | l Acc: 37.98%, b Acc: 88.43%\n"
     ]
    },
    {
     "name": "stderr",
     "output_type": "stream",
     "text": [
      "                                                                                "
     ]
    },
    {
     "name": "stdout",
     "output_type": "stream",
     "text": [
      "Epoch 10/50: Train Loss: 1.5809, Val Loss: 1.4827 | Train Acc: 51.20%, Val Acc: 53.58% | l Acc: 53.71%, b Acc: 92.67%\n"
     ]
    },
    {
     "name": "stderr",
     "output_type": "stream",
     "text": [
      "                                                                                "
     ]
    },
    {
     "name": "stdout",
     "output_type": "stream",
     "text": [
      "Epoch 11/50: Train Loss: 1.5091, Val Loss: 1.6994 | Train Acc: 58.84%, Val Acc: 54.12% | l Acc: 69.56%, b Acc: 73.97%\n"
     ]
    },
    {
     "name": "stderr",
     "output_type": "stream",
     "text": [
      "                                                                                "
     ]
    },
    {
     "name": "stdout",
     "output_type": "stream",
     "text": [
      "Epoch 12/50: Train Loss: 1.5055, Val Loss: 1.6243 | Train Acc: 54.04%, Val Acc: 45.33% | l Acc: 58.65%, b Acc: 63.71%\n"
     ]
    },
    {
     "name": "stderr",
     "output_type": "stream",
     "text": [
      "                                                                                "
     ]
    },
    {
     "name": "stdout",
     "output_type": "stream",
     "text": [
      "Epoch 13/50: Train Loss: 1.2869, Val Loss: 1.7502 | Train Acc: 62.91%, Val Acc: 20.31% | l Acc: 53.90%, b Acc: 43.06%\n"
     ]
    },
    {
     "name": "stderr",
     "output_type": "stream",
     "text": [
      "                                                                                "
     ]
    },
    {
     "name": "stdout",
     "output_type": "stream",
     "text": [
      "Epoch 14/50: Train Loss: 1.3647, Val Loss: 1.1422 | Train Acc: 63.79%, Val Acc: 63.81% | l Acc: 68.55%, b Acc: 90.36%\n"
     ]
    },
    {
     "name": "stderr",
     "output_type": "stream",
     "text": [
      "                                                                                "
     ]
    },
    {
     "name": "stdout",
     "output_type": "stream",
     "text": [
      "Epoch 15/50: Train Loss: 1.3312, Val Loss: 1.3570 | Train Acc: 59.62%, Val Acc: 44.75% | l Acc: 55.29%, b Acc: 76.42%\n"
     ]
    },
    {
     "name": "stderr",
     "output_type": "stream",
     "text": [
      "                                                                                "
     ]
    },
    {
     "name": "stdout",
     "output_type": "stream",
     "text": [
      "Epoch 16/50: Train Loss: 1.2178, Val Loss: 1.5271 | Train Acc: 62.40%, Val Acc: 31.64% | l Acc: 78.88%, b Acc: 46.68%\n"
     ]
    },
    {
     "name": "stderr",
     "output_type": "stream",
     "text": [
      "                                                                                "
     ]
    },
    {
     "name": "stdout",
     "output_type": "stream",
     "text": [
      "Epoch 17/50: Train Loss: 1.4227, Val Loss: 2.0564 | Train Acc: 64.68%, Val Acc: 47.09% | l Acc: 58.64%, b Acc: 75.37%\n"
     ]
    },
    {
     "name": "stderr",
     "output_type": "stream",
     "text": [
      "                                                                                "
     ]
    },
    {
     "name": "stdout",
     "output_type": "stream",
     "text": [
      "Epoch 18/50: Train Loss: 1.2863, Val Loss: 1.2837 | Train Acc: 67.91%, Val Acc: 56.53% | l Acc: 56.70%, b Acc: 93.55%\n"
     ]
    },
    {
     "name": "stderr",
     "output_type": "stream",
     "text": [
      "                                                                                "
     ]
    },
    {
     "name": "stdout",
     "output_type": "stream",
     "text": [
      "Epoch 19/50: Train Loss: 0.6785, Val Loss: 0.6957 | Train Acc: 90.81%, Val Acc: 89.46% | l Acc: 90.98%, b Acc: 97.00%\n"
     ]
    },
    {
     "name": "stderr",
     "output_type": "stream",
     "text": [
      "                                                                                "
     ]
    },
    {
     "name": "stdout",
     "output_type": "stream",
     "text": [
      "Epoch 20/50: Train Loss: 0.6831, Val Loss: 0.5917 | Train Acc: 91.45%, Val Acc: 94.10% | l Acc: 91.04%, b Acc: 98.75%\n"
     ]
    },
    {
     "name": "stderr",
     "output_type": "stream",
     "text": [
      "                                                                                "
     ]
    },
    {
     "name": "stdout",
     "output_type": "stream",
     "text": [
      "Epoch 21/50: Train Loss: 0.7307, Val Loss: 0.7360 | Train Acc: 91.10%, Val Acc: 94.12% | l Acc: 91.67%, b Acc: 97.97%\n"
     ]
    },
    {
     "name": "stderr",
     "output_type": "stream",
     "text": [
      "                                                                                "
     ]
    },
    {
     "name": "stdout",
     "output_type": "stream",
     "text": [
      "Epoch 22/50: Train Loss: 0.9335, Val Loss: 0.8265 | Train Acc: 89.82%, Val Acc: 87.17% | l Acc: 88.93%, b Acc: 95.49%\n"
     ]
    },
    {
     "name": "stderr",
     "output_type": "stream",
     "text": [
      "                                                                                "
     ]
    },
    {
     "name": "stdout",
     "output_type": "stream",
     "text": [
      "Epoch 23/50: Train Loss: 0.7656, Val Loss: 0.7870 | Train Acc: 91.55%, Val Acc: 89.09% | l Acc: 91.31%, b Acc: 94.08%\n"
     ]
    },
    {
     "name": "stderr",
     "output_type": "stream",
     "text": [
      "                                                                                "
     ]
    },
    {
     "name": "stdout",
     "output_type": "stream",
     "text": [
      "Epoch 24/50: Train Loss: 0.6927, Val Loss: 0.9726 | Train Acc: 89.04%, Val Acc: 72.48% | l Acc: 69.05%, b Acc: 95.69%\n"
     ]
    },
    {
     "name": "stderr",
     "output_type": "stream",
     "text": [
      "                                                                                "
     ]
    },
    {
     "name": "stdout",
     "output_type": "stream",
     "text": [
      "Epoch 25/50: Train Loss: 0.4493, Val Loss: 0.4088 | Train Acc: 94.52%, Val Acc: 96.91% | l Acc: 94.49%, b Acc: 98.71%\n"
     ]
    },
    {
     "name": "stderr",
     "output_type": "stream",
     "text": [
      "                                                                                "
     ]
    },
    {
     "name": "stdout",
     "output_type": "stream",
     "text": [
      "Epoch 26/50: Train Loss: 0.4523, Val Loss: 0.5305 | Train Acc: 94.85%, Val Acc: 96.38% | l Acc: 94.14%, b Acc: 98.49%\n"
     ]
    },
    {
     "name": "stderr",
     "output_type": "stream",
     "text": [
      "                                                                                "
     ]
    },
    {
     "name": "stdout",
     "output_type": "stream",
     "text": [
      "Epoch 27/50: Train Loss: 0.4450, Val Loss: 0.4860 | Train Acc: 95.25%, Val Acc: 96.59% | l Acc: 94.16%, b Acc: 98.86%\n"
     ]
    },
    {
     "name": "stderr",
     "output_type": "stream",
     "text": [
      "                                                                                "
     ]
    },
    {
     "name": "stdout",
     "output_type": "stream",
     "text": [
      "Epoch 28/50: Train Loss: 0.4419, Val Loss: 0.4576 | Train Acc: 95.38%, Val Acc: 96.99% | l Acc: 94.92%, b Acc: 99.15%\n"
     ]
    },
    {
     "name": "stderr",
     "output_type": "stream",
     "text": [
      "                                                                                "
     ]
    },
    {
     "name": "stdout",
     "output_type": "stream",
     "text": [
      "Epoch 29/50: Train Loss: 0.4358, Val Loss: 0.5398 | Train Acc: 95.44%, Val Acc: 96.73% | l Acc: 94.48%, b Acc: 98.80%\n"
     ]
    },
    {
     "name": "stderr",
     "output_type": "stream",
     "text": [
      "                                                                                "
     ]
    },
    {
     "name": "stdout",
     "output_type": "stream",
     "text": [
      "Epoch 30/50: Train Loss: 0.3718, Val Loss: 0.4034 | Train Acc: 95.85%, Val Acc: 96.79% | l Acc: 95.16%, b Acc: 98.66%\n"
     ]
    },
    {
     "name": "stderr",
     "output_type": "stream",
     "text": [
      "                                                                                "
     ]
    },
    {
     "name": "stdout",
     "output_type": "stream",
     "text": [
      "Epoch 31/50: Train Loss: 0.3705, Val Loss: 0.3456 | Train Acc: 95.79%, Val Acc: 97.24% | l Acc: 95.78%, b Acc: 98.91%\n"
     ]
    },
    {
     "name": "stderr",
     "output_type": "stream",
     "text": [
      "                                                                                "
     ]
    },
    {
     "name": "stdout",
     "output_type": "stream",
     "text": [
      "Epoch 32/50: Train Loss: 0.3434, Val Loss: 0.3934 | Train Acc: 96.25%, Val Acc: 96.99% | l Acc: 95.26%, b Acc: 98.84%\n"
     ]
    },
    {
     "name": "stderr",
     "output_type": "stream",
     "text": [
      "                                                                                "
     ]
    },
    {
     "name": "stdout",
     "output_type": "stream",
     "text": [
      "Epoch 33/50: Train Loss: 0.3470, Val Loss: 0.3542 | Train Acc: 96.36%, Val Acc: 97.42% | l Acc: 95.86%, b Acc: 98.92%\n"
     ]
    },
    {
     "name": "stderr",
     "output_type": "stream",
     "text": [
      "                                                                                "
     ]
    },
    {
     "name": "stdout",
     "output_type": "stream",
     "text": [
      "Epoch 34/50: Train Loss: 0.3204, Val Loss: 0.3257 | Train Acc: 96.48%, Val Acc: 97.21% | l Acc: 95.38%, b Acc: 98.85%\n"
     ]
    },
    {
     "name": "stderr",
     "output_type": "stream",
     "text": [
      "                                                                                "
     ]
    },
    {
     "name": "stdout",
     "output_type": "stream",
     "text": [
      "Epoch 35/50: Train Loss: 0.3178, Val Loss: 0.3139 | Train Acc: 96.41%, Val Acc: 97.45% | l Acc: 95.83%, b Acc: 99.08%\n"
     ]
    },
    {
     "name": "stderr",
     "output_type": "stream",
     "text": [
      "                                                                                "
     ]
    },
    {
     "name": "stdout",
     "output_type": "stream",
     "text": [
      "Epoch 36/50: Train Loss: 0.3092, Val Loss: 0.2908 | Train Acc: 96.50%, Val Acc: 97.46% | l Acc: 95.73%, b Acc: 99.19%\n"
     ]
    },
    {
     "name": "stderr",
     "output_type": "stream",
     "text": [
      "                                                                                "
     ]
    },
    {
     "name": "stdout",
     "output_type": "stream",
     "text": [
      "Epoch 37/50: Train Loss: 0.3196, Val Loss: 0.3614 | Train Acc: 96.46%, Val Acc: 97.28% | l Acc: 95.91%, b Acc: 99.11%\n"
     ]
    },
    {
     "name": "stderr",
     "output_type": "stream",
     "text": [
      "                                                                                "
     ]
    },
    {
     "name": "stdout",
     "output_type": "stream",
     "text": [
      "Epoch 38/50: Train Loss: 0.3316, Val Loss: 0.3472 | Train Acc: 96.24%, Val Acc: 97.38% | l Acc: 95.86%, b Acc: 99.18%\n"
     ]
    },
    {
     "name": "stderr",
     "output_type": "stream",
     "text": [
      "                                                                                "
     ]
    },
    {
     "name": "stdout",
     "output_type": "stream",
     "text": [
      "Epoch 39/50: Train Loss: 0.2998, Val Loss: 0.3624 | Train Acc: 96.56%, Val Acc: 97.34% | l Acc: 95.53%, b Acc: 99.20%\n"
     ]
    },
    {
     "name": "stderr",
     "output_type": "stream",
     "text": [
      "                                                                                "
     ]
    },
    {
     "name": "stdout",
     "output_type": "stream",
     "text": [
      "Epoch 40/50: Train Loss: 0.3085, Val Loss: 0.3169 | Train Acc: 96.64%, Val Acc: 97.49% | l Acc: 96.04%, b Acc: 99.21%\n"
     ]
    },
    {
     "name": "stderr",
     "output_type": "stream",
     "text": [
      "                                                                                "
     ]
    },
    {
     "name": "stdout",
     "output_type": "stream",
     "text": [
      "Epoch 41/50: Train Loss: 0.2701, Val Loss: 0.2750 | Train Acc: 96.90%, Val Acc: 97.62% | l Acc: 96.21%, b Acc: 99.31%\n"
     ]
    },
    {
     "name": "stderr",
     "output_type": "stream",
     "text": [
      "                                                                                "
     ]
    },
    {
     "name": "stdout",
     "output_type": "stream",
     "text": [
      "Epoch 42/50: Train Loss: 0.2698, Val Loss: 0.2544 | Train Acc: 96.91%, Val Acc: 97.61% | l Acc: 96.31%, b Acc: 99.27%\n"
     ]
    },
    {
     "name": "stderr",
     "output_type": "stream",
     "text": [
      "                                                                                "
     ]
    },
    {
     "name": "stdout",
     "output_type": "stream",
     "text": [
      "Epoch 43/50: Train Loss: 0.2774, Val Loss: 0.3477 | Train Acc: 96.76%, Val Acc: 97.42% | l Acc: 96.00%, b Acc: 99.09%\n"
     ]
    },
    {
     "name": "stderr",
     "output_type": "stream",
     "text": [
      "                                                                                "
     ]
    },
    {
     "name": "stdout",
     "output_type": "stream",
     "text": [
      "Epoch 44/50: Train Loss: 0.2714, Val Loss: 0.3028 | Train Acc: 96.79%, Val Acc: 97.54% | l Acc: 96.33%, b Acc: 99.31%\n"
     ]
    },
    {
     "name": "stderr",
     "output_type": "stream",
     "text": [
      "                                                                                "
     ]
    },
    {
     "name": "stdout",
     "output_type": "stream",
     "text": [
      "Epoch 45/50: Train Loss: 0.2763, Val Loss: 0.2817 | Train Acc: 96.67%, Val Acc: 97.19% | l Acc: 95.67%, b Acc: 99.22%\n"
     ]
    },
    {
     "name": "stderr",
     "output_type": "stream",
     "text": [
      "                                                                                "
     ]
    },
    {
     "name": "stdout",
     "output_type": "stream",
     "text": [
      "Epoch 46/50: Train Loss: 0.2804, Val Loss: 0.3118 | Train Acc: 96.59%, Val Acc: 97.28% | l Acc: 95.90%, b Acc: 99.22%\n"
     ]
    },
    {
     "name": "stderr",
     "output_type": "stream",
     "text": [
      "                                                                                "
     ]
    },
    {
     "name": "stdout",
     "output_type": "stream",
     "text": [
      "Epoch 47/50: Train Loss: 0.2723, Val Loss: 0.2810 | Train Acc: 96.64%, Val Acc: 97.39% | l Acc: 96.06%, b Acc: 99.34%\n"
     ]
    },
    {
     "name": "stderr",
     "output_type": "stream",
     "text": [
      "                                                                                "
     ]
    },
    {
     "name": "stdout",
     "output_type": "stream",
     "text": [
      "Epoch 48/50: Train Loss: 0.2913, Val Loss: 0.3234 | Train Acc: 96.55%, Val Acc: 97.18% | l Acc: 95.88%, b Acc: 99.23%\n"
     ]
    },
    {
     "name": "stderr",
     "output_type": "stream",
     "text": [
      "                                                                                "
     ]
    },
    {
     "name": "stdout",
     "output_type": "stream",
     "text": [
      "Epoch 49/50: Train Loss: 0.2899, Val Loss: 0.3099 | Train Acc: 96.43%, Val Acc: 97.28% | l Acc: 96.00%, b Acc: 99.27%\n"
     ]
    },
    {
     "name": "stderr",
     "output_type": "stream",
     "text": [
      "                                                                                "
     ]
    },
    {
     "name": "stdout",
     "output_type": "stream",
     "text": [
      "Epoch 50/50: Train Loss: 0.2976, Val Loss: 0.2921 | Train Acc: 96.61%, Val Acc: 97.36% | l Acc: 96.10%, b Acc: 99.34%\n"
     ]
    },
    {
     "name": "stderr",
     "output_type": "stream",
     "text": [
      "/var/folders/7_/30253fds1sj6461h2g9vqhbc0015zk/T/ipykernel_6774/310913158.py:130: FutureWarning: You are using `torch.load` with `weights_only=False` (the current default value), which uses the default pickle module implicitly. It is possible to construct malicious pickle data which will execute arbitrary code during unpickling (See https://github.com/pytorch/pytorch/blob/main/SECURITY.md#untrusted-models for more details). In a future release, the default value for `weights_only` will be flipped to `True`. This limits the functions that could be executed during unpickling. Arbitrary objects will no longer be allowed to be loaded via this mode unless they are explicitly allowlisted by the user via `torch.serialization.add_safe_globals`. We recommend you start setting `weights_only=True` for any use case where you don't have full control of the loaded file. Please open an issue on GitHub for any issues related to this experimental feature.\n",
      "  model.load_state_dict(torch.load(f\"best_coords_model.pth\"))\n"
     ]
    }
   ],
   "source": [
    "# define which device(GPU or CPU) we want to use\n",
    "device=torch.device('cuda' if torch.cuda.is_available() else 'cpu')\n",
    "print(f'Using device:{device}')\n",
    "# if you have multiple GPUs, you can select which one to use by adding the index to the end, ie: \"cuda:0\" or \"cuda:1\"\n",
    "\n",
    "num_epochs = 50\n",
    "learning_rate = 1e-3\n",
    "batch_size = 256\n",
    "cutoff_deg = 1\n",
    "patience = 10\n",
    "hidden_size = 256\n",
    "\n",
    "model = EquatorialToGalacticMLP(hidden_size=hidden_size).to(device)\n",
    "optimizer = optim.Adam(model.parameters(), lr=learning_rate)\n",
    "scheduler = optim.lr_scheduler.ReduceLROnPlateau(optimizer, mode='min', factor=0.5, patience=3)\n",
    "\n",
    "\n",
    "inputs, answers = generate_data(num_samples=100000)\n",
    "inputs_train, inputs_val, answers_train, answers_val = train_test_split(inputs, answers, test_size=0.2, random_state=22)\n",
    "\n",
    "\n",
    "# Convert to PyTorch tensors\n",
    "inputs_train = torch.FloatTensor(inputs_train).to(device)\n",
    "answers_train = torch.FloatTensor(answers_train).to(device)\n",
    "inputs_val = torch.FloatTensor(inputs_val).to(device)\n",
    "answers_val = torch.FloatTensor(answers_val).to(device)\n",
    "\n",
    "\n",
    "training_history = {\n",
    "            'train_loss': [],\n",
    "            'val_loss': [],\n",
    "            'train_acc': [],\n",
    "            'val_acc': [],\n",
    "            'epoch_times': []\n",
    "        }\n",
    "# Training loop\n",
    "try:\n",
    "    for epoch in range(num_epochs):\n",
    "        epoch_start = time.time()\n",
    "        model.train()\n",
    "\n",
    "        permutation = torch.randperm(inputs_train.size()[0])\n",
    "        \n",
    "        train_total = 0\n",
    "        train_correct_l = 0\n",
    "        train_correct_b = 0\n",
    "        epoch_loss = 0\n",
    "        train_correct = 0\n",
    "        best_val_loss = float('inf')\n",
    "        epochs_no_improve = 0\n",
    "\n",
    "\n",
    "        # Iterate through batches using the DataLoader\n",
    "        for i in tqdm(range(0, inputs_train.size()[0], batch_size), unit='batch', desc='Training', leave=False):\n",
    "\n",
    "            indices = permutation[i:i+batch_size]\n",
    "            batch_X, batch_y = inputs_train[indices], answers_train[indices]\n",
    "            \n",
    "            optimizer.zero_grad()\n",
    "            outputs = model(batch_X)\n",
    "            loss = GreatCircleLoss(outputs, batch_y)\n",
    "            loss.backward()\n",
    "            optimizer.step()\n",
    "            \n",
    "            epoch_loss += loss.item()\n",
    "\n",
    "            \n",
    "            # Calculate accuracy for this batch\n",
    "            with torch.no_grad():\n",
    "                true_l, true_b = batch_y[:, 0].cpu().numpy(), batch_y[:, 1].cpu().numpy()\n",
    "                pred_l, pred_b = outputs[:, 0].cpu().numpy(), outputs[:, 1].cpu().numpy()\n",
    "                \n",
    "                # Convert to radians\n",
    "                true_l = (true_l + 1) * np.pi  # [-1,1] -> [0,2pi]\n",
    "                true_b = true_b * np.pi/4      # [-1,1] -> [-pi/4,pi/4]\n",
    "                pred_l = (pred_l + 1) * np.pi\n",
    "                pred_b = pred_b * np.pi/4\n",
    "                \n",
    "                \n",
    "                # Haversine formula for great circle distance\n",
    "                dlon = pred_l - true_l\n",
    "                dlat = pred_b - true_b\n",
    "                a = np.sin(dlat/2)**2 + np.cos(true_b) * np.cos(pred_b) * np.sin(dlon/2)**2\n",
    "                c = 2 * np.arcsin(np.sqrt(a))\n",
    "                great_circle_dist_deg = np.degrees(c)\n",
    "                \n",
    "                # Count correct predictions (within cutoff_deg)\n",
    "                train_correct += np.sum(great_circle_dist_deg < cutoff_deg)\n",
    "                train_total += len(true_l)\n",
    "\n",
    "\n",
    "\n",
    "        train_loss = epoch_loss/(train_total / batch_size) \n",
    "        train_acc_l = train_correct_l / train_total\n",
    "        train_acc_b = train_correct_b / train_total\n",
    "        train_acc = train_correct / train_total\n",
    "\n",
    "        \n",
    "        # Validation\n",
    "        # val_loss, val_l_diff, val_b_diff = get_acc(model, val_loader, device=device)\n",
    "        val_loss, val_acc_l, val_acc_b, val_acc = get_cutoff_acc(model, inputs_val, answers_val, cutoff_deg=cutoff_deg)\n",
    "        \n",
    "        # Update learning rate\n",
    "        scheduler.step(val_loss)\n",
    "        \n",
    "        # Update training history\n",
    "        training_history['train_loss'].append(train_loss)\n",
    "        training_history['val_loss'].append(val_loss)\n",
    "        training_history['train_acc'].append(train_acc)\n",
    "        training_history['val_acc'].append(val_acc)\n",
    "        training_history['epoch_times'].append(time.time() - epoch_start)\n",
    "        \n",
    "        # Early stopping check\n",
    "        if val_loss < best_val_loss:\n",
    "            best_val_loss = val_loss\n",
    "            best_model = model.state_dict()\n",
    "            epochs_no_improve = 0\n",
    "            torch.save(best_model, f\"best_coords_model.pth\")\n",
    "        else:\n",
    "            epochs_no_improve += 1\n",
    "            if epochs_no_improve >= patience:\n",
    "                print(f'Early stopping at epoch {epoch+1}')\n",
    "                break\n",
    "        \n",
    "\n",
    "        print(f'Epoch {epoch+1}/{num_epochs}: '\n",
    "              f'Train Loss: {train_loss:.4f}, Val Loss: {val_loss:.4f} | '\n",
    "              f'Train Acc: {train_acc:.2%}, Val Acc: {val_acc:.2%} | '\n",
    "              f'l Acc: {val_acc_l:.2%}, b Acc: {val_acc_b:.2%}')\n",
    "    model.load_state_dict(torch.load(f\"best_coords_model.pth\"))\n",
    "    #plot_training_history(training_history, cutoff_deg, save_path)\n",
    "                    \n",
    "except KeyboardInterrupt:\n",
    "    print(f'Early stopping at epoch {epoch+1}')\n",
    "    model.load_state_dict(torch.load(f\"best_coords_model.pth\"))\n",
    "    #plot_training_history(training_history, cutoff_deg, save_path)\n"
   ]
  },
  {
   "cell_type": "code",
   "execution_count": 24,
   "id": "d23c3634-40e9-424c-b032-2503aeda6527",
   "metadata": {},
   "outputs": [
    {
     "data": {
      "image/png": "[encoded data removed]",
      "text/plain": [
       "<Figure size 1200x500 with 2 Axes>"
      ]
     },
     "metadata": {},
     "output_type": "display_data"
    }
   ],
   "source": [
    "save_path = os.path.join('skylar_output', 'block3_training.png')\n",
    "plot_training_history(training_history, cutoff_deg, save_path)"
   ]
  },
  {
   "cell_type": "code",
   "execution_count": 19,
   "id": "cca62523",
   "metadata": {
    "scrolled": true
   },
   "outputs": [
    {
     "name": "stderr",
     "output_type": "stream",
     "text": [
      "/var/folders/7_/30253fds1sj6461h2g9vqhbc0015zk/T/ipykernel_6774/47543564.py:91: FutureWarning: You are using `torch.load` with `weights_only=False` (the current default value), which uses the default pickle module implicitly. It is possible to construct malicious pickle data which will execute arbitrary code during unpickling (See https://github.com/pytorch/pytorch/blob/main/SECURITY.md#untrusted-models for more details). In a future release, the default value for `weights_only` will be flipped to `True`. This limits the functions that could be executed during unpickling. Arbitrary objects will no longer be allowed to be loaded via this mode unless they are explicitly allowlisted by the user via `torch.serialization.add_safe_globals`. We recommend you start setting `weights_only=True` for any use case where you don't have full control of the loaded file. Please open an issue on GitHub for any issues related to this experimental feature.\n",
      "  model.load_state_dict(torch.load(f\"best_coords_model.pth\"))\n"
     ]
    },
    {
     "data": {
      "image/png": "[encoded data removed]",
      "text/plain": [
       "<Figure size 1200x800 with 2 Axes>"
      ]
     },
     "metadata": {},
     "output_type": "display_data"
    }
   ],
   "source": [
    "import matplotlib.pyplot as plt\n",
    "import numpy as np\n",
    "from astropy.coordinates import SkyCoord\n",
    "import astropy.units as u\n",
    "\n",
    "def generate_aitoff_plot(model, resolution=300):\n",
    "    \"\"\"Generate an Aitoff projection plot showing loss across the sky\"\"\"\n",
    "    # Create grid of RA/Dec values\n",
    "    ra_values = np.linspace(-180, 180, resolution)  # Aitoff uses -180 to 180\n",
    "    dec_values = np.linspace(-90, 90, resolution)\n",
    "    ra_grid, dec_grid = np.meshgrid(ra_values, dec_values)\n",
    "    \n",
    "    # Initialize loss grid\n",
    "    loss_grid = np.zeros((resolution, resolution))\n",
    "    \n",
    "    model.eval()\n",
    "    \n",
    "    with torch.no_grad():\n",
    "        # Flatten the grid and process all points\n",
    "        all_ra = ra_grid.ravel()\n",
    "        all_dec = dec_grid.ravel()\n",
    "\n",
    "        \n",
    "        # Prepare normalized inputs (convert RA to 0-360 for astropy)\n",
    "        inputs = np.column_stack(((all_ra % 360) / 180 - 1, \n",
    "                         all_dec / 90))\n",
    "        inputs = torch.FloatTensor(inputs).to(device)\n",
    "\n",
    "        \n",
    "        # Get true galactic coordinates\n",
    "        equatorial = SkyCoord(ra=(all_ra % 360)*u.deg, \n",
    "                     dec=all_dec*u.deg, \n",
    "                     frame='icrs')\n",
    "        galactic = equatorial.galactic\n",
    "        l_true = galactic.l.deg\n",
    "        b_true = galactic.b.deg\n",
    "\n",
    "\n",
    "        \n",
    "        # Normalize answers\n",
    "        answers = np.column_stack(((l_true / 180 - 1), \n",
    "                                (b_true / 90)))\n",
    "        answers = torch.FloatTensor(answers).to(device)\n",
    "        \n",
    "\n",
    "\n",
    "\n",
    "        # Calculate loss for all points\n",
    "        outputs = model(inputs)\n",
    "        batch_loss = GreatCircleLoss_no_average(outputs, answers)\n",
    "        #batch_loss = F.mse_loss(outputs, answers, reduction='none').mean(dim=1)\n",
    "\n",
    "\n",
    "\n",
    "\n",
    "        loss_deg = batch_loss.cpu().numpy()  # Convert to degrees\n",
    "        # Reshape back to grid\n",
    "        loss_grid = loss_deg.reshape(resolution, resolution)\n",
    "    \n",
    "    # Create Aitoff projection plot\n",
    "    plt.figure(figsize=(12, 8))\n",
    "    ax = plt.subplot(111, projection='aitoff')\n",
    "    \n",
    "    # Plot the heatmap\n",
    "    im = ax.pcolormesh(np.radians(ra_grid), np.radians(dec_grid), loss_grid,\n",
    "                     cmap='viridis', shading='auto')\n",
    "    \n",
    "    # Add colorbar\n",
    "    cbar = plt.colorbar(im, orientation='horizontal', pad=0.1)\n",
    "    cbar.set_label('Angular Error (degrees)', fontsize=12)\n",
    "    \n",
    "    # Add grid and labels\n",
    "    ax.grid(True, linestyle='--', alpha=0.5)\n",
    "    ax.set_xticklabels(['14h', '16h', '18h', '20h', '22h', '0h', '2h', '4h', '6h', '8h', '10h'])\n",
    "    ax.set_title('Equatorial to Galactic Transformation Error', pad=20)\n",
    "    \n",
    "    # Add galactic plane\n",
    "    galactic_l = np.linspace(-180, 180, 1000)\n",
    "    galactic_b = np.zeros(1000)\n",
    "    galactic_coords = SkyCoord(l=galactic_l*u.deg, b=galactic_b*u.deg, frame='galactic')\n",
    "    equatorial_coords = galactic_coords.icrs\n",
    "    ra_plane = (equatorial_coords.ra.deg + 180) % 360 - 180  # Convert to -180 to 180 range\n",
    "    ax.plot(np.radians(ra_plane), np.radians(equatorial_coords.dec.deg), \n",
    "           'c--', linewidth=1.5, alpha=0.7, label='Galactic Plane')\n",
    "    \n",
    "    plt.legend(loc='lower center')\n",
    "    plt.tight_layout()\n",
    "    plt.savefig('./skylar_output/globe_circleloss.png', dpi=300, bbox_inches='tight')\n",
    "    plt.show()\n",
    "\n",
    "model.load_state_dict(torch.load(f\"best_coords_model.pth\"))\n",
    "generate_aitoff_plot(model)"
   ]
  },
  {
   "cell_type": "markdown",
   "id": "1b2df165",
   "metadata": {},
   "source": [
    "### 1a:\n",
    "#### Try  changing the batch_loss in the error plotting function to the commented out loss function  \n",
    "Hopefully, it should be easy to see the difference are between the two\n",
    "\n",
    "In this case, we've exploited our own understanding of geometry to use a Loss function that perfectly represents the \"goodness\" for our model. The Great Circle distance between the predicted and true points on the sphere. \n",
    "\n",
    "This is **rarely** the case in practice, so most people will try a few different loss functions out and use whichever maches their chosen accuracy function the most. Here are the two most popular ones for classifications:\n",
    "\n",
    "\n",
    " \n",
    "- Binary Cross Entropy Loss\n",
    "    - For if a single sample can be in more than one class at a time\n",
    "    - Each class gets its own independent \"yes or no\"\n",
    "- Cross Entropy Loss\n",
    "    - For mutually exclusive classifications \n",
    "    - for if you \"know\" the object belongs to *exactly* one class out of however many classes \n"
   ]
  },
  {
   "attachments": {},
   "cell_type": "markdown",
   "id": "0d622d7f-9b5f-43bc-97e2-b987b9f4dbdd",
   "metadata": {},
   "source": [
    "**MSE loss:**\n",
    "\n",
    "<img src=\"skylar_output/globe_mseloss.png\" width=\"500\">\n",
    "\n",
    "**Circle loss:**\n",
    "\n",
    "<img src=\"skylar_output/globe_circleloss.png\" width=\"500\">"
   ]
  },
  {
   "cell_type": "markdown",
   "id": "1ce2295a",
   "metadata": {},
   "source": [
    "### 1b: \n",
    "#### Tinker!! do short runs, watching how quickly the model improves while changing one hyperparameter at a time and try adding a 3rd body block to your model and compare to before. Does it improve? \n",
    "(hint: when adding another block, remember to plug it into your forward pass)"
   ]
  },
  {
   "cell_type": "markdown",
   "id": "82946da0-5fa4-4e57-87f7-0af1cc98cb91",
   "metadata": {},
   "source": [
    "**Base Model per Benny**\n",
    "\n",
    "<img src=\"skylar_output/base_training.png\" width=\"1000\">\n",
    "\n",
    "**One more Block**\n",
    "\n",
    "<img src=\"skylar_output/block3_training.png\" width=\"1000\">"
   ]
  },
  {
   "cell_type": "markdown",
   "id": "aad87b57",
   "metadata": {},
   "source": [
    "\n",
    "### 1c:\n",
    "#### Try adding some residual connections to your model:\n",
    "<img src=\"figures/models.jpg\" width=600>"
   ]
  },
  {
   "cell_type": "markdown",
   "id": "df10a369",
   "metadata": {},
   "source": [
    "### 1d:\n",
    "#### Make it a Densenet!!"
   ]
  },
  {
   "cell_type": "markdown",
   "id": "81ba3bbd",
   "metadata": {},
   "source": [
    "*your notes here*"
   ]
  },
  {
   "cell_type": "markdown",
   "id": "12ed1ed6",
   "metadata": {},
   "source": [
    "# Transferred learning:"
   ]
  },
  {
   "cell_type": "markdown",
   "id": "fa6a1a8b",
   "metadata": {},
   "source": [
    "When training any neuralnet, the most important resource is time. Because of this, instead of training their models from scratch every single time, it is often helpful to load in pretrained models(usually from [huggingface](https://huggingface.co/)) for the bulkier parts of a model and fine tune them to your own problem. \n",
    "\n",
    "It may not seem like a model trained to distinguish a moped from a space shuttle would be very good at detecting transients, but you'll see how it makes a difference."
   ]
  },
  {
   "cell_type": "markdown",
   "id": "4a6d1bb3",
   "metadata": {},
   "source": [
    "# Example:\n",
    "When looking for extragalactic transients, an important type of object to filter out are [Cataclysmic variable stars](https://en.wikipedia.org/wiki/Cataclysmic_variable_star). While these events usually aren't bright enough to be visible outside their respective galaxies, the ones in our own galaxy are more than bright enough to show up in surveys. Because of this and other reasons, many surveys(including [BTS](https://sites.astro.caltech.edu/ztf/bts/bts.php)) will avoid the galactic plane all together.  \n",
    " <img src=\"figures/BTSmap.png\" width=685>  \n",
    "But, since this doesn't cut out all of them, lets train a neuralnet to take the coordinates of an object and give us the probability of that object being a cataclysmic variable.    \n",
    "\n",
    "ZTF CV's(cataclysmic variables) in galactic coordinates:  \n",
    "  \n",
    "<img src=\"figures/gal_aitoff_plot.png\" width=750>"
   ]
  },
  {
   "cell_type": "code",
   "execution_count": 6,
   "id": "051938b8",
   "metadata": {},
   "outputs": [],
   "source": [
    "\n",
    "\n",
    "def train(config):\n",
    "     \n",
    "\n",
    "    NPY_DIR = config['npy_dir']\n",
    "    # if config[\"gpu\"] in [1, 0]:\n",
    "    #     DEVICE= f\"cuda:{config['gpu']}\"\n",
    "    # else:\n",
    "    #     DEVICE = select_gpu()\n",
    "    DEVICE = \"cuda\"\n",
    "    \n",
    "    print(f\"Using device:{DEVICE}\")\n",
    "    BATCH_SIZE = config['batch_size']\n",
    "    # LR = 0.0006777718906668259  \n",
    "    LR = config['learning_rate']\n",
    "    EPOCHS = config['epochs']\n",
    "    PATIENCE =  config['patience']\n",
    "\n",
    "\n",
    "    for run in range(int(1)):\n",
    "        # print(\"Run ID:\", wandb.run.id)\n",
    "        \n",
    "        # h = random.randint(100, 190)\n",
    "        # loader_seed = h + (run*9)\n",
    "        \n",
    "        seed = config['seed']\n",
    "        loader_seed=config['loader_seed']\n",
    "        # print(f'using loader seed:{loader_seed}')\n",
    "        # Python and numpy\n",
    "        random.seed(seed)\n",
    "        np.random.seed(seed)\n",
    "        \n",
    "        # PyTorch\n",
    "        torch.manual_seed(seed)\n",
    "        if torch.cuda.is_available():\n",
    "            torch.cuda.manual_seed(seed)\n",
    "            torch.cuda.manual_seed_all(seed)\n",
    "        \n",
    "        # Configure PyTorch for deterministic behavior\n",
    "        torch.backends.cudnn.deterministic = True  # This makes CUDA operations deterministic\n",
    "        torch.backends.cudnn.benchmark = False     # Should be False for reproducibility\n",
    "        \n",
    "\n",
    "        \n",
    "\n",
    "        #============================================================\n",
    "        #    Initialize model and optimize tower parameters\n",
    "        # (this is where it's a bit like taming a pack of dragons)\n",
    "        #============================================================\n",
    "\n",
    "        model = config['model']\n",
    "        optimizer = config['optimizer']   \n",
    "        scheduler = config['scheduler']\n",
    "\n",
    "\n",
    "\n",
    "        # Initialize data loaders'\n",
    "        print(\"Loading data...\")\n",
    "        train_loader, val_loader, test_loader, classes = get_dataloaders(config)\n",
    "        print(\"Finished loading data...\")\n",
    "\n",
    "\n",
    "        # class_counts = get_class_counts(train_loader,config)\n",
    "        # train_weights = torch.tensor([\n",
    "                        \n",
    "        #                 30000/(int(count)**(1))                  \n",
    "        #                 for idx, count in enumerate(class_counts)\n",
    "        #             ], device=DEVICE, dtype=torch.float32)\n",
    "\n",
    "        # criterion = nn.CrossEntropyLoss(weight=train_weights, label_smoothing=0.1)\n",
    "        # criterion = nn.CrossEntropyLoss( label_smoothing=0.1)\n",
    "        criterion = nn.BCELoss( )\n",
    "\n",
    "\n",
    "        # assign class weights \n",
    "        \n",
    "\n",
    "        #============================================================\n",
    "        # Main Training Loop\n",
    "        #============================================================\n",
    "\n",
    "        best_pr_auc = 0\n",
    "        best_val_loss = 10\n",
    "        epochs_no_improve = 0\n",
    "\n",
    "        try:\n",
    "            im_fuckin_around = True\n",
    "            for epoch in range(EPOCHS):\n",
    "                model.train()\n",
    "                train_loss = 0.0\n",
    "                # train_loader.dataset.new_epoch()\n",
    "\n",
    "                for batch in tqdm(train_loader, unit='batch', desc='Training', leave=False):\n",
    "                    metadata = batch['metadata'].to(DEVICE)\n",
    "                    image = batch['image'].to(DEVICE)\n",
    "                    target = batch['target'].to(DEVICE)\n",
    "\n",
    "                    optimizer.zero_grad()\n",
    "\n",
    "                    outputs = model(metadata, image=image)\n",
    "                    # target = torch.argmax(target, dim=1)  # Converts [batch, classes] → [batch]\n",
    "\n",
    "                    loss = criterion(outputs, target)\n",
    "\n",
    "                    loss.backward()\n",
    "\n",
    "                    nn.utils.clip_grad_norm_(model.parameters(), max_norm=config['max_norm'])\n",
    "                    optimizer.step()\n",
    "                    train_loss += loss.item()\n",
    "\n",
    "            \n",
    "                val_pr_auc_mean, val_pr_aucs, _, _ = calculate_pr_auc(val_loader, model,  DEVICE, config)\n",
    "                val_loss = calculate_val_loss(val_loader, model, criterion, DEVICE) \n",
    "\n",
    "                train_loss /= len(train_loader)\n",
    "\n",
    "                if config['scheduler'] == 'cosine_annealing':\n",
    "                    scheduler.step()\n",
    "                if config['scheduler'] == 'reduce_on_plateau':\n",
    "                    # scheduler.step(val_loss)\n",
    "                    scheduler.step(1-val_pr_auc_mean)\n",
    "\n",
    "\n",
    "\n",
    "                if val_pr_auc_mean > best_pr_auc:\n",
    "                # if best_val_loss > val_loss:\n",
    "                    print(val_pr_auc_mean)\n",
    "                    best_pr_auc = val_pr_auc_mean\n",
    "                    best_val_loss=val_loss\n",
    "                    epochs_no_improve = 0\n",
    "                    torch.save(model.state_dict(), f\"{config['savepath']}.pth\")\n",
    "                    \n",
    "                else:\n",
    "                    epochs_no_improve += 1\n",
    "                    if epochs_no_improve == PATIENCE:\n",
    "                        print(f\"Early stopping at epoch {epoch+1}\")\n",
    "                        break\n",
    "\n",
    "\n",
    "\n",
    "                \n",
    "                pr_auc_str = \"|\".join([f\"{name}:{auc:.3f}\" for name, auc in zip(config['class_names'], val_pr_aucs)])\n",
    "                print(f\"Epoch {epoch+1}/{EPOCHS}|\"\n",
    "                    f\"Train Loss:{train_loss:.4f}|\"\n",
    "                    f\"Val loss:{val_loss:.3f}|\"\n",
    "                    f\"Macro mean AUPRC:{val_pr_auc_mean:.4f}|\"\n",
    "                    f\"Class AUPRCs:{pr_auc_str}\")\n",
    "            print(f'best loss:{best_val_loss}')\n",
    "            # Evaluation\n",
    "            random_stats = random_baseline_pr_auc(test_loader, n_trials=1000)\n",
    "            print(f\"Random Baseline PR-AUCs (mean ± std):\")\n",
    "            for i, class_name in enumerate(config['classes']):\n",
    "                print(f\"{class_name}: {random_stats['mean'][i]:.3f} ± {random_stats['std'][i]:.3f}\")\n",
    "            \n",
    "\n",
    "            # Plot and save results\n",
    "            model.load_state_dict(torch.load(f\"{config['savepath']}.pth\"))\n",
    "            pr_auc_mean, pr_aucs, plt = plot_combined_results(test_loader, model, DEVICE)\n",
    "\n",
    "\n",
    "\n",
    "        except KeyboardInterrupt:\n",
    "            print(f'best loss:{best_val_loss}')\n",
    "            # Evaluation\n",
    "            random_stats = random_baseline_pr_auc(test_loader, n_trials=1000)\n",
    "            print(f\"Random Baseline PR-AUCs (mean ± std):\")\n",
    "            for i, class_name in enumerate(config['classes']):\n",
    "                print(f\"{class_name}: {random_stats['mean'][i]:.3f} ± {random_stats['std'][i]:.3f}\")\n",
    "            \n",
    "\n",
    "            # Plot and save results\n",
    "            model.load_state_dict(torch.load(f\"{config['savepath']}.pth\"))\n",
    "            pr_auc_mean, pr_aucs, plt = plot_combined_results(test_loader, model, DEVICE)\n",
    "\n",
    "\n",
    "\n",
    "\n",
    "\n",
    "\n",
    "\n",
    "\n",
    "def random_baseline_pr_auc( loader, config, n_trials=1000):\n",
    "    all_targets = []\n",
    "    for batch in loader:\n",
    "        targets = batch['target']  # Directly use the target tensor\n",
    "\n",
    "        # Convert one-hot to class indices if needed\n",
    "        if targets.dim() == 2:\n",
    "            targets = torch.argmax(targets, dim=1)\n",
    "\n",
    "        all_targets.append(targets.cpu().numpy())\n",
    "    targets = np.concatenate(all_targets)\n",
    "    \n",
    "\n",
    "\n",
    "    num_classes = len(config['classes']) \n",
    "    trial_pr_aucs = np.zeros((n_trials, num_classes))\n",
    "\n",
    "\n",
    "    \n",
    "    for trial in range(n_trials):\n",
    "        np.random.seed(trial)\n",
    "        # Generate random probabilities that sum to 1\n",
    "        random_probs = np.random.dirichlet(np.ones(num_classes), size=len(targets))\n",
    "        \n",
    "        for class_idx in range(num_classes):\n",
    "            precision, recall, _ = precision_recall_curve(\n",
    "                (targets == class_idx).astype(int),\n",
    "                random_probs[:, class_idx]\n",
    "            )\n",
    "            trial_pr_aucs[trial, class_idx] = sklearn_auc(recall, precision)\n",
    "    \n",
    "    return {\n",
    "        'mean': np.mean(trial_pr_aucs, axis=0),\n",
    "        'std': np.std(trial_pr_aucs, axis=0),\n",
    "        'all_trials': trial_pr_aucs\n",
    "    }\n"
   ]
  },
  {
   "cell_type": "markdown",
   "id": "31da49a5",
   "metadata": {},
   "source": [
    "### 2a:\n",
    "#### Copy your model from before down here, but add another nn.Sequential block that takes the output from self.end and outputs only one feature "
   ]
  },
  {
   "cell_type": "code",
   "execution_count": 7,
   "id": "8f2badc7",
   "metadata": {},
   "outputs": [],
   "source": [
    "class Coordinate_Tower(nn.Module):\n",
    "    def __init__(self, hidden_size=128):\n",
    "        super(Coordinate_Tower, self).__init__()\n",
    "\n",
    "        self.coords = EquatorialToGalacticMLP(hidden_size = 256) # use the same stats your saved model has\n",
    "        self.coords.load_state_dict(torch.load('best_coords_model.pth', map_location=device) )  # fill in filepath\n",
    "\n",
    "        self.end = nn.Sequential(\n",
    "            nn.Linear(2, 2),\n",
    "            nn.Softmax()\n",
    "        )\n",
    "\n",
    "        \n",
    "    def forward(self, metadata, image):\n",
    "\n",
    "        feats = self.coords(metadata[:, [7,8]])\n",
    "        feats = self.end(feats)\n",
    "\n",
    "        \n",
    "        # feat_1 = torch.zeros_like(feats) - feats\n",
    "        # return nn.Softmax(dim=1)(torch.cat([feats, feat_1], dim=1))\n",
    "        return feats\n",
    "    \n",
    "\n",
    "\n"
   ]
  },
  {
   "cell_type": "code",
   "execution_count": 8,
   "id": "18dd4fc3",
   "metadata": {},
   "outputs": [],
   "source": [
    "model = Coordinate_Tower().to(device)"
   ]
  },
  {
   "cell_type": "markdown",
   "id": "6ec05a69",
   "metadata": {},
   "source": [
    "#### Now lets make a training cell to organize things\n",
    "(remember to group the classes for what we're actually looking for)"
   ]
  },
  {
   "cell_type": "code",
   "execution_count": 9,
   "id": "de65097b",
   "metadata": {},
   "outputs": [
    {
     "name": "stdout",
     "output_type": "stream",
     "text": [
      "Using device:cuda\n",
      "Loading data...\n",
      "getting dataset\n"
     ]
    },
    {
     "name": "stderr",
     "output_type": "stream",
     "text": [
      "100%|██████████| 9457/9457 [00:01<00:00, 7445.63it/s]\n",
      "100%|██████████| 9457/9457 [00:02<00:00, 4542.86it/s]\n"
     ]
    },
    {
     "name": "stdout",
     "output_type": "stream",
     "text": [
      "got dataset\n"
     ]
    },
    {
     "name": "stderr",
     "output_type": "stream",
     "text": [
      "100%|██████████| 9457/9457 [00:16<00:00, 576.77it/s]\n"
     ]
    },
    {
     "name": "stdout",
     "output_type": "stream",
     "text": [
      "Finished loading data...\n"
     ]
    },
    {
     "name": "stderr",
     "output_type": "stream",
     "text": [
      "Training:   0%|          | 0/104 [00:00<?, ?batch/s]/home/borderbenja/anaconda3/envs/ztfss/lib/python3.10/site-packages/torch/nn/modules/module.py:1751: UserWarning: Implicit dimension choice for softmax has been deprecated. Change the call to include dim=X as an argument.\n",
      "  return self._call_impl(*args, **kwargs)\n",
      "Evaluating val loss:   0%|          | 0/23 [00:00<?, ?batch/s]          /home/borderbenja/anaconda3/envs/ztfss/lib/python3.10/site-packages/torch/nn/modules/module.py:1751: UserWarning: Implicit dimension choice for softmax has been deprecated. Change the call to include dim=X as an argument.\n",
      "  return self._call_impl(*args, **kwargs)\n",
      "                                                              \r"
     ]
    },
    {
     "ename": "IndexError",
     "evalue": "too many indices for tensor of dimension 2",
     "output_type": "error",
     "traceback": [
      "\u001b[0;31m---------------------------------------------------------------------------\u001b[0m",
      "\u001b[0;31mIndexError\u001b[0m                                Traceback (most recent call last)",
      "Cell \u001b[0;32mIn[9], line 52\u001b[0m\n\u001b[1;32m      7\u001b[0m scheduler \u001b[38;5;241m=\u001b[39m ReduceLROnPlateau(optimizer, \u001b[38;5;124m'\u001b[39m\u001b[38;5;124mmin\u001b[39m\u001b[38;5;124m'\u001b[39m,min_lr\u001b[38;5;241m=\u001b[39m\u001b[38;5;241m5e-10\u001b[39m, patience\u001b[38;5;241m=\u001b[39m\u001b[38;5;241m5\u001b[39m, factor\u001b[38;5;241m=\u001b[39m\u001b[38;5;241m0.4\u001b[39m)\n\u001b[1;32m     15\u001b[0m config \u001b[38;5;241m=\u001b[39m {\n\u001b[1;32m     16\u001b[0m     \u001b[38;5;124m\"\u001b[39m\u001b[38;5;124mmodel\u001b[39m\u001b[38;5;124m\"\u001b[39m: model,\n\u001b[1;32m     17\u001b[0m     \u001b[38;5;124m\"\u001b[39m\u001b[38;5;124mclasses\u001b[39m\u001b[38;5;124m\"\u001b[39m: CLASSES,\n\u001b[0;32m   (...)\u001b[0m\n\u001b[1;32m     48\u001b[0m     \u001b[38;5;124m\"\u001b[39m\u001b[38;5;124mcomb_dropout\u001b[39m\u001b[38;5;124m\"\u001b[39m: \u001b[38;5;241m0.2\u001b[39m\n\u001b[1;32m     49\u001b[0m }\n\u001b[0;32m---> 52\u001b[0m \u001b[43mtrain\u001b[49m\u001b[43m(\u001b[49m\u001b[43mconfig\u001b[49m\u001b[43m)\u001b[49m\n",
      "Cell \u001b[0;32mIn[6], line 112\u001b[0m, in \u001b[0;36mtrain\u001b[0;34m(config)\u001b[0m\n\u001b[1;32m    108\u001b[0m     train_loss \u001b[38;5;241m+\u001b[39m\u001b[38;5;241m=\u001b[39m loss\u001b[38;5;241m.\u001b[39mitem()\n\u001b[1;32m    111\u001b[0m val_pr_auc_mean, val_pr_aucs, _, _ \u001b[38;5;241m=\u001b[39m calculate_pr_auc(val_loader, model,  DEVICE, config)\n\u001b[0;32m--> 112\u001b[0m val_loss \u001b[38;5;241m=\u001b[39m \u001b[43mcalculate_val_loss\u001b[49m\u001b[43m(\u001b[49m\u001b[43mval_loader\u001b[49m\u001b[43m,\u001b[49m\u001b[43m \u001b[49m\u001b[43mmodel\u001b[49m\u001b[43m,\u001b[49m\u001b[43m \u001b[49m\u001b[43mcriterion\u001b[49m\u001b[43m,\u001b[49m\u001b[43m \u001b[49m\u001b[43mDEVICE\u001b[49m\u001b[43m)\u001b[49m \n\u001b[1;32m    114\u001b[0m train_loss \u001b[38;5;241m/\u001b[39m\u001b[38;5;241m=\u001b[39m \u001b[38;5;28mlen\u001b[39m(train_loader)\n\u001b[1;32m    116\u001b[0m \u001b[38;5;28;01mif\u001b[39;00m config[\u001b[38;5;124m'\u001b[39m\u001b[38;5;124mscheduler\u001b[39m\u001b[38;5;124m'\u001b[39m] \u001b[38;5;241m==\u001b[39m \u001b[38;5;124m'\u001b[39m\u001b[38;5;124mcosine_annealing\u001b[39m\u001b[38;5;124m'\u001b[39m:\n",
      "File \u001b[0;32m~/ztf_summer_school/train_utils.py:117\u001b[0m, in \u001b[0;36mcalculate_val_loss\u001b[0;34m(loader, model, criterion, DEVICE)\u001b[0m\n\u001b[1;32m    114\u001b[0m         target \u001b[38;5;241m=\u001b[39m batch[\u001b[38;5;124m'\u001b[39m\u001b[38;5;124mtarget\u001b[39m\u001b[38;5;124m'\u001b[39m]\u001b[38;5;241m.\u001b[39mto(DEVICE)\n\u001b[1;32m    116\u001b[0m         outputs \u001b[38;5;241m=\u001b[39m model(metadata, image)\n\u001b[0;32m--> 117\u001b[0m         loss \u001b[38;5;241m=\u001b[39m criterion(\u001b[43moutputs\u001b[49m\u001b[43m[\u001b[49m\u001b[38;5;124;43m'\u001b[39;49m\u001b[38;5;124;43mlogits\u001b[39;49m\u001b[38;5;124;43m'\u001b[39;49m\u001b[43m]\u001b[49m, target)\n\u001b[1;32m    118\u001b[0m         val_loss \u001b[38;5;241m+\u001b[39m\u001b[38;5;241m=\u001b[39m loss\u001b[38;5;241m.\u001b[39mitem()\n\u001b[1;32m    120\u001b[0m \u001b[38;5;28;01mreturn\u001b[39;00m val_loss \u001b[38;5;241m/\u001b[39m \u001b[38;5;28mlen\u001b[39m(loader)\n",
      "\u001b[0;31mIndexError\u001b[0m: too many indices for tensor of dimension 2"
     ]
    }
   ],
   "source": [
    "CLASSES = [['AGN', 'Tidal Disruption Event','SN Ia','SN Ic','SN Ib', 'SN IIP', 'SN IIn','SN II'], ['Cataclysmic']]\n",
    "CLASS_NAMES =[\"not cataclysmic\", \"Cataclysmic\"]\n",
    "learning_rate = 1e-3\n",
    "\n",
    "optimizer = torch.optim.AdamW(params=model.parameters(), lr=learning_rate, betas=(0.9, 0.999), eps=5e-10)\n",
    "\n",
    "scheduler = ReduceLROnPlateau(optimizer, 'min',min_lr=5e-10, patience=5, factor=0.4)\n",
    "\n",
    "\n",
    "\n",
    "\n",
    "\n",
    "\n",
    "\n",
    "config = {\n",
    "    \"model\": model,\n",
    "    \"classes\": CLASSES,\n",
    "    \"show_classes\": CLASS_NAMES,\n",
    "    \"scheduler\": scheduler,\n",
    "    \"optimizer\": optimizer,\n",
    "    \"npy_dir\": \"good_samples\",\n",
    "    \"timm_model\": \"cnn\",\n",
    "    'learning_rate': learning_rate,\n",
    "    \"num_workers\": 24,\n",
    "    \"pretrain\": 1,\n",
    "    \"epochs\":1000,\n",
    "    \"patience\":10,\n",
    "    \"batch_size\":64,\n",
    "    \"seed\":135,\n",
    "    \"loader_seed\":125,\n",
    "    \"num_experts\":4,\n",
    "    \"towers_hidden_dims\":8,\n",
    "    \"towers_outdims\": 4,\n",
    "    \"fusion_hidden_dims\":8,\n",
    "    \"fusion_router_dims\":16,\n",
    "    \"fusion_outdims\":16,\n",
    "    \"weight_exp\": 0.85,\n",
    "    \"max_norm\":1,\n",
    "    \"conv1_channels\": 32,\n",
    "    \"conv2_channels\": 64,\n",
    "    \"conv_kernel\": 5,\n",
    "    \"conv_dropout1\": 0.5,\n",
    "    \"conv_dropout2\": 0.55,\n",
    "    \"meta_fc1_neurons\": 128,\n",
    "    \"meta_fc2_neurons\": 128,\n",
    "    \"meta_dropout\": 0.25,\n",
    "    \"comb_fc_neurons\": 8,\n",
    "    \"comb_dropout\": 0.2\n",
    "}\n",
    "\n",
    "\n",
    "train(config)"
   ]
  },
  {
   "cell_type": "markdown",
   "id": "a55843f6",
   "metadata": {},
   "source": [
    "### 2b:\n",
    "#### Try training a model from scratch and see how it compares"
   ]
  },
  {
   "cell_type": "code",
   "execution_count": null,
   "id": "7e3c710c",
   "metadata": {},
   "outputs": [],
   "source": []
  },
  {
   "cell_type": "code",
   "execution_count": null,
   "id": "d74fe564",
   "metadata": {},
   "outputs": [],
   "source": []
  },
  {
   "cell_type": "code",
   "execution_count": null,
   "id": "abf40fe5",
   "metadata": {},
   "outputs": [],
   "source": []
  }
 ],
 "metadata": {
  "kernelspec": {
   "display_name": "ztfss25",
   "language": "python",
   "name": "ztfss25"
  },
  "language_info": {
   "codemirror_mode": {
    "name": "ipython",
    "version": 3
   },
   "file_extension": ".py",
   "mimetype": "text/x-python",
   "name": "python",
   "nbconvert_exporter": "python",
   "pygments_lexer": "ipython3",
   "version": "3.12.11"
  }
 },
 "nbformat": 4,
 "nbformat_minor": 5
}
